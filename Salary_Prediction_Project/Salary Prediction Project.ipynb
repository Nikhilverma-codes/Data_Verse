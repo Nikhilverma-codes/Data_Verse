{
 "cells": [
  {
   "cell_type": "markdown",
   "id": "54bb884b-df56-426d-8db6-e434add2a499",
   "metadata": {
    "jp-MarkdownHeadingCollapsed": true
   },
   "source": [
    "### ***Step 1 : Load necessary libraries***"
   ]
  },
  {
   "cell_type": "code",
   "execution_count": 1,
   "id": "30a182a8-0dd7-43eb-b2db-8e353968b972",
   "metadata": {},
   "outputs": [],
   "source": [
    "import numpy as np\n",
    "import pandas as pd\n",
    "import matplotlib.pyplot as plt\n",
    "import seaborn as sns"
   ]
  },
  {
   "cell_type": "markdown",
   "id": "ca6de363-e439-4ae9-8d36-f653c9cadfc7",
   "metadata": {
    "jp-MarkdownHeadingCollapsed": true
   },
   "source": [
    "### ***Step 2 : Data Collection***"
   ]
  },
  {
   "cell_type": "code",
   "execution_count": 2,
   "id": "12226912-3c0c-44d4-bfd7-f9943769a8cb",
   "metadata": {},
   "outputs": [],
   "source": [
    "df = pd.read_csv('Salary Data.csv')"
   ]
  },
  {
   "cell_type": "markdown",
   "id": "6816bd93-378c-41f4-ba70-ca9053c56a62",
   "metadata": {
    "jp-MarkdownHeadingCollapsed": true
   },
   "source": [
    "### ***Step 3 : Data Exploration and visualization (EDA)***"
   ]
  },
  {
   "cell_type": "code",
   "execution_count": 3,
   "id": "dc840857-1c50-41de-964b-a68bc789ee55",
   "metadata": {},
   "outputs": [
    {
     "data": {
      "text/html": [
       "<div>\n",
       "<style scoped>\n",
       "    .dataframe tbody tr th:only-of-type {\n",
       "        vertical-align: middle;\n",
       "    }\n",
       "\n",
       "    .dataframe tbody tr th {\n",
       "        vertical-align: top;\n",
       "    }\n",
       "\n",
       "    .dataframe thead th {\n",
       "        text-align: right;\n",
       "    }\n",
       "</style>\n",
       "<table border=\"1\" class=\"dataframe\">\n",
       "  <thead>\n",
       "    <tr style=\"text-align: right;\">\n",
       "      <th></th>\n",
       "      <th>Age</th>\n",
       "      <th>Gender</th>\n",
       "      <th>Education Level</th>\n",
       "      <th>Job Title</th>\n",
       "      <th>Years of Experience</th>\n",
       "      <th>Salary</th>\n",
       "    </tr>\n",
       "  </thead>\n",
       "  <tbody>\n",
       "    <tr>\n",
       "      <th>0</th>\n",
       "      <td>32.0</td>\n",
       "      <td>Male</td>\n",
       "      <td>Bachelor's</td>\n",
       "      <td>Software Engineer</td>\n",
       "      <td>5.0</td>\n",
       "      <td>90000.0</td>\n",
       "    </tr>\n",
       "    <tr>\n",
       "      <th>1</th>\n",
       "      <td>28.0</td>\n",
       "      <td>Female</td>\n",
       "      <td>Master's</td>\n",
       "      <td>Data Analyst</td>\n",
       "      <td>3.0</td>\n",
       "      <td>65000.0</td>\n",
       "    </tr>\n",
       "    <tr>\n",
       "      <th>2</th>\n",
       "      <td>45.0</td>\n",
       "      <td>Male</td>\n",
       "      <td>PhD</td>\n",
       "      <td>Senior Manager</td>\n",
       "      <td>15.0</td>\n",
       "      <td>150000.0</td>\n",
       "    </tr>\n",
       "    <tr>\n",
       "      <th>3</th>\n",
       "      <td>36.0</td>\n",
       "      <td>Female</td>\n",
       "      <td>Bachelor's</td>\n",
       "      <td>Sales Associate</td>\n",
       "      <td>7.0</td>\n",
       "      <td>60000.0</td>\n",
       "    </tr>\n",
       "    <tr>\n",
       "      <th>4</th>\n",
       "      <td>52.0</td>\n",
       "      <td>Male</td>\n",
       "      <td>Master's</td>\n",
       "      <td>Director</td>\n",
       "      <td>20.0</td>\n",
       "      <td>200000.0</td>\n",
       "    </tr>\n",
       "    <tr>\n",
       "      <th>...</th>\n",
       "      <td>...</td>\n",
       "      <td>...</td>\n",
       "      <td>...</td>\n",
       "      <td>...</td>\n",
       "      <td>...</td>\n",
       "      <td>...</td>\n",
       "    </tr>\n",
       "    <tr>\n",
       "      <th>370</th>\n",
       "      <td>35.0</td>\n",
       "      <td>Female</td>\n",
       "      <td>Bachelor's</td>\n",
       "      <td>Senior Marketing Analyst</td>\n",
       "      <td>8.0</td>\n",
       "      <td>85000.0</td>\n",
       "    </tr>\n",
       "    <tr>\n",
       "      <th>371</th>\n",
       "      <td>43.0</td>\n",
       "      <td>Male</td>\n",
       "      <td>Master's</td>\n",
       "      <td>Director of Operations</td>\n",
       "      <td>19.0</td>\n",
       "      <td>170000.0</td>\n",
       "    </tr>\n",
       "    <tr>\n",
       "      <th>372</th>\n",
       "      <td>29.0</td>\n",
       "      <td>Female</td>\n",
       "      <td>Bachelor's</td>\n",
       "      <td>Junior Project Manager</td>\n",
       "      <td>2.0</td>\n",
       "      <td>40000.0</td>\n",
       "    </tr>\n",
       "    <tr>\n",
       "      <th>373</th>\n",
       "      <td>34.0</td>\n",
       "      <td>Male</td>\n",
       "      <td>Bachelor's</td>\n",
       "      <td>Senior Operations Coordinator</td>\n",
       "      <td>7.0</td>\n",
       "      <td>90000.0</td>\n",
       "    </tr>\n",
       "    <tr>\n",
       "      <th>374</th>\n",
       "      <td>44.0</td>\n",
       "      <td>Female</td>\n",
       "      <td>PhD</td>\n",
       "      <td>Senior Business Analyst</td>\n",
       "      <td>15.0</td>\n",
       "      <td>150000.0</td>\n",
       "    </tr>\n",
       "  </tbody>\n",
       "</table>\n",
       "<p>375 rows × 6 columns</p>\n",
       "</div>"
      ],
      "text/plain": [
       "      Age  Gender Education Level                      Job Title  \\\n",
       "0    32.0    Male      Bachelor's              Software Engineer   \n",
       "1    28.0  Female        Master's                   Data Analyst   \n",
       "2    45.0    Male             PhD                 Senior Manager   \n",
       "3    36.0  Female      Bachelor's                Sales Associate   \n",
       "4    52.0    Male        Master's                       Director   \n",
       "..    ...     ...             ...                            ...   \n",
       "370  35.0  Female      Bachelor's       Senior Marketing Analyst   \n",
       "371  43.0    Male        Master's         Director of Operations   \n",
       "372  29.0  Female      Bachelor's         Junior Project Manager   \n",
       "373  34.0    Male      Bachelor's  Senior Operations Coordinator   \n",
       "374  44.0  Female             PhD        Senior Business Analyst   \n",
       "\n",
       "     Years of Experience    Salary  \n",
       "0                    5.0   90000.0  \n",
       "1                    3.0   65000.0  \n",
       "2                   15.0  150000.0  \n",
       "3                    7.0   60000.0  \n",
       "4                   20.0  200000.0  \n",
       "..                   ...       ...  \n",
       "370                  8.0   85000.0  \n",
       "371                 19.0  170000.0  \n",
       "372                  2.0   40000.0  \n",
       "373                  7.0   90000.0  \n",
       "374                 15.0  150000.0  \n",
       "\n",
       "[375 rows x 6 columns]"
      ]
     },
     "execution_count": 3,
     "metadata": {},
     "output_type": "execute_result"
    }
   ],
   "source": [
    "df"
   ]
  },
  {
   "cell_type": "code",
   "execution_count": 4,
   "id": "83ba8b0d-6e0d-4e8e-89b4-118c27d9d8b5",
   "metadata": {},
   "outputs": [
    {
     "data": {
      "text/plain": [
       "Age                    2\n",
       "Gender                 2\n",
       "Education Level        2\n",
       "Job Title              2\n",
       "Years of Experience    2\n",
       "Salary                 2\n",
       "dtype: int64"
      ]
     },
     "execution_count": 4,
     "metadata": {},
     "output_type": "execute_result"
    }
   ],
   "source": [
    "df.isnull().sum()"
   ]
  },
  {
   "cell_type": "code",
   "execution_count": 5,
   "id": "319fcc59-0095-4e63-a9d5-c7893993d63e",
   "metadata": {},
   "outputs": [],
   "source": [
    "df1 = df.dropna()"
   ]
  },
  {
   "cell_type": "code",
   "execution_count": 6,
   "id": "6737c00f-80ac-43e6-9154-eb0b3f17561a",
   "metadata": {},
   "outputs": [
    {
     "data": {
      "text/plain": [
       "174"
      ]
     },
     "execution_count": 6,
     "metadata": {},
     "output_type": "execute_result"
    }
   ],
   "source": [
    "len(df1['Job Title'].unique())"
   ]
  },
  {
   "cell_type": "code",
   "execution_count": 7,
   "id": "2775ab77-d46f-4cbf-b403-959af9934fbc",
   "metadata": {},
   "outputs": [
    {
     "data": {
      "text/plain": [
       "2"
      ]
     },
     "execution_count": 7,
     "metadata": {},
     "output_type": "execute_result"
    }
   ],
   "source": [
    "df1['Gender'].nunique()"
   ]
  },
  {
   "cell_type": "code",
   "execution_count": 8,
   "id": "4db0afd9-f923-4251-ae60-1049c2cb01e0",
   "metadata": {},
   "outputs": [
    {
     "data": {
      "text/plain": [
       "Job Title\n",
       "Director of Marketing             12\n",
       "Director of Operations            11\n",
       "Senior Business Analyst           10\n",
       "Senior Marketing Manager           9\n",
       "Senior Marketing Analyst           9\n",
       "                                  ..\n",
       "Junior Social Media Specialist     1\n",
       "Junior Operations Coordinator      1\n",
       "Senior HR Specialist               1\n",
       "Director of HR                     1\n",
       "Junior Financial Advisor           1\n",
       "Name: count, Length: 174, dtype: int64"
      ]
     },
     "execution_count": 8,
     "metadata": {},
     "output_type": "execute_result"
    }
   ],
   "source": [
    "df1['Job Title'].value_counts()"
   ]
  },
  {
   "cell_type": "code",
   "execution_count": 9,
   "id": "c7941100-bc73-488c-aaf0-67f348958471",
   "metadata": {},
   "outputs": [
    {
     "data": {
      "text/plain": [
       "Education Level\n",
       "Bachelor's    224\n",
       "Master's       98\n",
       "PhD            51\n",
       "Name: count, dtype: int64"
      ]
     },
     "execution_count": 9,
     "metadata": {},
     "output_type": "execute_result"
    }
   ],
   "source": [
    "df1['Education Level'].value_counts()"
   ]
  },
  {
   "cell_type": "code",
   "execution_count": 10,
   "id": "bbb09bbe-e80e-436a-a624-8c1b8f0eb546",
   "metadata": {},
   "outputs": [
    {
     "name": "stderr",
     "output_type": "stream",
     "text": [
      "C:\\Users\\NIKHIL VERMA\\AppData\\Local\\Temp\\ipykernel_19464\\2209870266.py:1: SettingWithCopyWarning: \n",
      "A value is trying to be set on a copy of a slice from a DataFrame\n",
      "\n",
      "See the caveats in the documentation: https://pandas.pydata.org/pandas-docs/stable/user_guide/indexing.html#returning-a-view-versus-a-copy\n",
      "  df1.rename(columns={'Job Title':'Job_title', 'Education Level':'Education_Level', 'Years of Experience':'Years_of_Experience'}, inplace=True) #renaming a column\n"
     ]
    },
    {
     "data": {
      "text/html": [
       "<div>\n",
       "<style scoped>\n",
       "    .dataframe tbody tr th:only-of-type {\n",
       "        vertical-align: middle;\n",
       "    }\n",
       "\n",
       "    .dataframe tbody tr th {\n",
       "        vertical-align: top;\n",
       "    }\n",
       "\n",
       "    .dataframe thead th {\n",
       "        text-align: right;\n",
       "    }\n",
       "</style>\n",
       "<table border=\"1\" class=\"dataframe\">\n",
       "  <thead>\n",
       "    <tr style=\"text-align: right;\">\n",
       "      <th></th>\n",
       "      <th>Age</th>\n",
       "      <th>Gender</th>\n",
       "      <th>Education_Level</th>\n",
       "      <th>Job_title</th>\n",
       "      <th>Years_of_Experience</th>\n",
       "      <th>Salary</th>\n",
       "    </tr>\n",
       "  </thead>\n",
       "  <tbody>\n",
       "    <tr>\n",
       "      <th>45</th>\n",
       "      <td>28.0</td>\n",
       "      <td>Female</td>\n",
       "      <td>Bachelor's</td>\n",
       "      <td>Copywriter</td>\n",
       "      <td>2.0</td>\n",
       "      <td>40000.0</td>\n",
       "    </tr>\n",
       "  </tbody>\n",
       "</table>\n",
       "</div>"
      ],
      "text/plain": [
       "     Age  Gender Education_Level   Job_title  Years_of_Experience   Salary\n",
       "45  28.0  Female      Bachelor's  Copywriter                  2.0  40000.0"
      ]
     },
     "execution_count": 10,
     "metadata": {},
     "output_type": "execute_result"
    }
   ],
   "source": [
    "df1.rename(columns={'Job Title':'Job_title', 'Education Level':'Education_Level', 'Years of Experience':'Years_of_Experience'}, inplace=True) #renaming a column\n",
    "df2 = df1.copy()\n",
    "df2.sample()"
   ]
  },
  {
   "cell_type": "code",
   "execution_count": 11,
   "id": "55c68989-c564-43f8-887e-f2dfe8450f59",
   "metadata": {},
   "outputs": [
    {
     "data": {
      "image/png": "[encoded data removed]",
      "text/plain": [
       "<Figure size 800x500 with 1 Axes>"
      ]
     },
     "metadata": {},
     "output_type": "display_data"
    }
   ],
   "source": [
    "plt.figure(figsize=(8,5))\n",
    "\n",
    "plt.scatter(data=df2, x='Years_of_Experience', y='Salary', alpha = 0.5)\n",
    "\n",
    "plt.title('Experience vs Salary')\n",
    "plt.xlabel('Years of Experience')\n",
    "plt.ylabel('Salary')\n",
    "\n",
    "plt.grid(True, alpha = 0.2)\n",
    "plt.show()"
   ]
  },
  {
   "cell_type": "markdown",
   "id": "5f373975-cc62-4eda-a5b2-d0099d86be43",
   "metadata": {
    "jp-MarkdownHeadingCollapsed": true
   },
   "source": [
    "### ***Step 4 : Removing Outliers***"
   ]
  },
  {
   "cell_type": "code",
   "execution_count": 12,
   "id": "e2fbc124-4a04-4510-86aa-dab7ddc5fe71",
   "metadata": {},
   "outputs": [],
   "source": [
    "df2.Job_title = df2.Job_title.apply(lambda x: x.strip())"
   ]
  },
  {
   "cell_type": "code",
   "execution_count": 13,
   "id": "498f1096-a81d-4f8e-af06-8e0ae725c27f",
   "metadata": {},
   "outputs": [
    {
     "data": {
      "text/plain": [
       "Job_title\n",
       "Director of Marketing       12\n",
       "Director of Operations      11\n",
       "Senior Business Analyst     10\n",
       "Senior Marketing Analyst     9\n",
       "Senior Marketing Manager     9\n",
       "                            ..\n",
       "UX Designer                  1\n",
       "UX Researcher                1\n",
       "VP of Finance                1\n",
       "VP of Operations             1\n",
       "Web Developer                1\n",
       "Name: Job_title, Length: 174, dtype: int64"
      ]
     },
     "execution_count": 13,
     "metadata": {},
     "output_type": "execute_result"
    }
   ],
   "source": [
    "Job_title_stats = df2.groupby('Job_title')['Job_title'].agg('count').sort_values(ascending=False)\n",
    "Job_title_stats"
   ]
  },
  {
   "cell_type": "code",
   "execution_count": 14,
   "id": "8cf92f8c-4839-4ed3-994e-904c3a59f224",
   "metadata": {},
   "outputs": [
    {
     "data": {
      "text/plain": [
       "134"
      ]
     },
     "execution_count": 14,
     "metadata": {},
     "output_type": "execute_result"
    }
   ],
   "source": [
    "len(Job_title_stats[Job_title_stats <= 2])"
   ]
  },
  {
   "cell_type": "code",
   "execution_count": 15,
   "id": "dcd9f152-13b3-4d0c-9273-6e61bcf8fb99",
   "metadata": {},
   "outputs": [
    {
     "data": {
      "text/plain": [
       "Job_title\n",
       "Director of Human Resources    2\n",
       "Event Coordinator              2\n",
       "Customer Service Manager       2\n",
       "Director of Finance            2\n",
       "Business Analyst               2\n",
       "                              ..\n",
       "UX Designer                    1\n",
       "UX Researcher                  1\n",
       "VP of Finance                  1\n",
       "VP of Operations               1\n",
       "Web Developer                  1\n",
       "Name: Job_title, Length: 134, dtype: int64"
      ]
     },
     "execution_count": 15,
     "metadata": {},
     "output_type": "execute_result"
    }
   ],
   "source": [
    "Job_title_stats_less_than_2 = Job_title_stats[Job_title_stats <= 2]\n",
    "Job_title_stats_less_than_2"
   ]
  },
  {
   "cell_type": "code",
   "execution_count": 16,
   "id": "bbabc6c7-9730-4033-a49c-29bdee70c654",
   "metadata": {},
   "outputs": [],
   "source": [
    "df2.Job_title = df2.Job_title.apply(lambda x: 'other' if x in Job_title_stats_less_than_2 else x)"
   ]
  },
  {
   "cell_type": "code",
   "execution_count": 17,
   "id": "b2fe9875-81cd-480f-9a99-c763ffcf22ed",
   "metadata": {},
   "outputs": [
    {
     "data": {
      "text/plain": [
       "Salary\n",
       "250000.0    2\n",
       "135000.0    2\n",
       "175000.0    2\n",
       "30000.0     1\n",
       "350.0       1\n",
       "125000.0    1\n",
       "155000.0    1\n",
       "145000.0    1\n",
       "185000.0    1\n",
       "220000.0    1\n",
       "Name: Salary, dtype: int64"
      ]
     },
     "execution_count": 17,
     "metadata": {},
     "output_type": "execute_result"
    }
   ],
   "source": [
    "Salary_stats = df2.groupby('Salary')['Salary'].agg('count').sort_values(ascending=False)\n",
    "Salary_stats.tail(10)"
   ]
  },
  {
   "cell_type": "code",
   "execution_count": 18,
   "id": "fd02830b-098e-46af-ad00-fe33e1469256",
   "metadata": {},
   "outputs": [
    {
     "data": {
      "text/plain": [
       "11"
      ]
     },
     "execution_count": 18,
     "metadata": {},
     "output_type": "execute_result"
    }
   ],
   "source": [
    "len(Salary_stats[Salary_stats <= 2])"
   ]
  },
  {
   "cell_type": "markdown",
   "id": "b76ac049-8193-4aec-b087-4beae0764e4d",
   "metadata": {},
   "source": [
    "##### **I asked from chatgpt**"
   ]
  },
  {
   "cell_type": "code",
   "execution_count": 19,
   "id": "ed14619d-44c6-4ca8-b23e-90a4b0f72554",
   "metadata": {},
   "outputs": [],
   "source": [
    "# Step 1: Get salary frequencies\n",
    "salary_counts = df2['Salary'].value_counts()\n",
    "\n",
    "# Step 2: Filter to keep only salaries that appear more than once\n",
    "common_salaries = salary_counts[salary_counts > 2].index\n",
    "\n",
    "# Step 3: Filter the dataframe to keep only those rows\n",
    "df2 = df2[df2['Salary'].isin(common_salaries)]"
   ]
  },
  {
   "cell_type": "code",
   "execution_count": 20,
   "id": "06a2e861-22ae-4d5c-8c9e-790914802fb0",
   "metadata": {},
   "outputs": [
    {
     "data": {
      "text/plain": [
       "0       90000.0\n",
       "1       65000.0\n",
       "2      150000.0\n",
       "3       60000.0\n",
       "5       55000.0\n",
       "         ...   \n",
       "370     85000.0\n",
       "371    170000.0\n",
       "372     40000.0\n",
       "373     90000.0\n",
       "374    150000.0\n",
       "Name: Salary, Length: 358, dtype: float64"
      ]
     },
     "execution_count": 20,
     "metadata": {},
     "output_type": "execute_result"
    }
   ],
   "source": [
    "df2.Salary"
   ]
  },
  {
   "cell_type": "code",
   "execution_count": 21,
   "id": "dfe21376-6799-473e-83e2-b4ad254920af",
   "metadata": {},
   "outputs": [
    {
     "data": {
      "text/plain": [
       "count       358.000000\n",
       "mean      98142.458101\n",
       "std       45643.231468\n",
       "min       35000.000000\n",
       "25%       55000.000000\n",
       "50%       95000.000000\n",
       "75%      130000.000000\n",
       "max      190000.000000\n",
       "Name: Salary, dtype: float64"
      ]
     },
     "execution_count": 21,
     "metadata": {},
     "output_type": "execute_result"
    }
   ],
   "source": [
    "df2.Salary.describe()"
   ]
  },
  {
   "cell_type": "code",
   "execution_count": 22,
   "id": "4f527869-7420-4746-95d9-422e1f853830",
   "metadata": {},
   "outputs": [
    {
     "data": {
      "text/plain": [
       "count    358.000000\n",
       "mean       9.731844\n",
       "std        6.363467\n",
       "min        0.000000\n",
       "25%        4.000000\n",
       "50%        9.000000\n",
       "75%       15.000000\n",
       "max       25.000000\n",
       "Name: Years_of_Experience, dtype: float64"
      ]
     },
     "execution_count": 22,
     "metadata": {},
     "output_type": "execute_result"
    }
   ],
   "source": [
    "df2.Years_of_Experience.describe()"
   ]
  },
  {
   "cell_type": "markdown",
   "id": "ccd49344-346f-459b-825c-1360af8a782f",
   "metadata": {},
   "source": [
    "### ***Step 5 : Data Preprocessing***"
   ]
  },
  {
   "cell_type": "markdown",
   "id": "cf9a20c7-22f6-4bb1-b154-32cc8b72ac83",
   "metadata": {
    "jp-MarkdownHeadingCollapsed": true
   },
   "source": [
    "#### **Using Ordinal Encoding for Education column and One Hot Encoding for Gender & Job_title column**"
   ]
  },
  {
   "cell_type": "code",
   "execution_count": 23,
   "id": "3d3d9adb-3adb-4a59-8a2a-681be4a57857",
   "metadata": {},
   "outputs": [],
   "source": [
    "from sklearn.preprocessing import OrdinalEncoder"
   ]
  },
  {
   "cell_type": "code",
   "execution_count": 24,
   "id": "ef523d7e-50c3-401f-8cce-7d1bafa13a85",
   "metadata": {},
   "outputs": [],
   "source": [
    "education_order = [[\"Bachelor's\", \"Master's\", \"PhD\"]]\n",
    "encoder = OrdinalEncoder(categories=education_order)\n",
    "df2['Education_Level'] = encoder.fit_transform(df2[['Education_Level']])"
   ]
  },
  {
   "cell_type": "code",
   "execution_count": 25,
   "id": "4c340713-8dc1-4d77-8962-9b92d13af20c",
   "metadata": {},
   "outputs": [
    {
     "data": {
      "text/html": [
       "<div>\n",
       "<style scoped>\n",
       "    .dataframe tbody tr th:only-of-type {\n",
       "        vertical-align: middle;\n",
       "    }\n",
       "\n",
       "    .dataframe tbody tr th {\n",
       "        vertical-align: top;\n",
       "    }\n",
       "\n",
       "    .dataframe thead th {\n",
       "        text-align: right;\n",
       "    }\n",
       "</style>\n",
       "<table border=\"1\" class=\"dataframe\">\n",
       "  <thead>\n",
       "    <tr style=\"text-align: right;\">\n",
       "      <th></th>\n",
       "      <th>Age</th>\n",
       "      <th>Gender</th>\n",
       "      <th>Education_Level</th>\n",
       "      <th>Job_title</th>\n",
       "      <th>Years_of_Experience</th>\n",
       "      <th>Salary</th>\n",
       "    </tr>\n",
       "  </thead>\n",
       "  <tbody>\n",
       "    <tr>\n",
       "      <th>0</th>\n",
       "      <td>32.0</td>\n",
       "      <td>Male</td>\n",
       "      <td>0.0</td>\n",
       "      <td>other</td>\n",
       "      <td>5.0</td>\n",
       "      <td>90000.0</td>\n",
       "    </tr>\n",
       "    <tr>\n",
       "      <th>1</th>\n",
       "      <td>28.0</td>\n",
       "      <td>Female</td>\n",
       "      <td>1.0</td>\n",
       "      <td>other</td>\n",
       "      <td>3.0</td>\n",
       "      <td>65000.0</td>\n",
       "    </tr>\n",
       "    <tr>\n",
       "      <th>2</th>\n",
       "      <td>45.0</td>\n",
       "      <td>Male</td>\n",
       "      <td>2.0</td>\n",
       "      <td>other</td>\n",
       "      <td>15.0</td>\n",
       "      <td>150000.0</td>\n",
       "    </tr>\n",
       "  </tbody>\n",
       "</table>\n",
       "</div>"
      ],
      "text/plain": [
       "    Age  Gender  Education_Level Job_title  Years_of_Experience    Salary\n",
       "0  32.0    Male              0.0     other                  5.0   90000.0\n",
       "1  28.0  Female              1.0     other                  3.0   65000.0\n",
       "2  45.0    Male              2.0     other                 15.0  150000.0"
      ]
     },
     "execution_count": 25,
     "metadata": {},
     "output_type": "execute_result"
    }
   ],
   "source": [
    "df2.head(3)"
   ]
  },
  {
   "cell_type": "code",
   "execution_count": 26,
   "id": "bf0fb1ec-b317-451b-a2ed-ba5f7e7b22f9",
   "metadata": {},
   "outputs": [],
   "source": [
    "dummies = pd.get_dummies(df2.Gender)"
   ]
  },
  {
   "cell_type": "code",
   "execution_count": 27,
   "id": "1db2fbed-5df4-4138-bc44-635fd16c37a4",
   "metadata": {},
   "outputs": [
    {
     "data": {
      "text/html": [
       "<div>\n",
       "<style scoped>\n",
       "    .dataframe tbody tr th:only-of-type {\n",
       "        vertical-align: middle;\n",
       "    }\n",
       "\n",
       "    .dataframe tbody tr th {\n",
       "        vertical-align: top;\n",
       "    }\n",
       "\n",
       "    .dataframe thead th {\n",
       "        text-align: right;\n",
       "    }\n",
       "</style>\n",
       "<table border=\"1\" class=\"dataframe\">\n",
       "  <thead>\n",
       "    <tr style=\"text-align: right;\">\n",
       "      <th></th>\n",
       "      <th>Female</th>\n",
       "      <th>Male</th>\n",
       "    </tr>\n",
       "  </thead>\n",
       "  <tbody>\n",
       "    <tr>\n",
       "      <th>0</th>\n",
       "      <td>False</td>\n",
       "      <td>True</td>\n",
       "    </tr>\n",
       "    <tr>\n",
       "      <th>1</th>\n",
       "      <td>True</td>\n",
       "      <td>False</td>\n",
       "    </tr>\n",
       "    <tr>\n",
       "      <th>2</th>\n",
       "      <td>False</td>\n",
       "      <td>True</td>\n",
       "    </tr>\n",
       "  </tbody>\n",
       "</table>\n",
       "</div>"
      ],
      "text/plain": [
       "   Female   Male\n",
       "0   False   True\n",
       "1    True  False\n",
       "2   False   True"
      ]
     },
     "execution_count": 27,
     "metadata": {},
     "output_type": "execute_result"
    }
   ],
   "source": [
    "dummies.head(3)"
   ]
  },
  {
   "cell_type": "code",
   "execution_count": 28,
   "id": "78a881bd-1cd6-4ace-ae79-4a693c010b36",
   "metadata": {},
   "outputs": [],
   "source": [
    "dummies1 = pd.get_dummies(df2.Job_title)"
   ]
  },
  {
   "cell_type": "code",
   "execution_count": 29,
   "id": "cc0fe792-c12f-43fe-a807-cb26e13863ce",
   "metadata": {},
   "outputs": [
    {
     "data": {
      "text/html": [
       "<div>\n",
       "<style scoped>\n",
       "    .dataframe tbody tr th:only-of-type {\n",
       "        vertical-align: middle;\n",
       "    }\n",
       "\n",
       "    .dataframe tbody tr th {\n",
       "        vertical-align: top;\n",
       "    }\n",
       "\n",
       "    .dataframe thead th {\n",
       "        text-align: right;\n",
       "    }\n",
       "</style>\n",
       "<table border=\"1\" class=\"dataframe\">\n",
       "  <thead>\n",
       "    <tr style=\"text-align: right;\">\n",
       "      <th></th>\n",
       "      <th>Director of Marketing</th>\n",
       "      <th>Director of Operations</th>\n",
       "      <th>Junior Accountant</th>\n",
       "      <th>Junior Business Analyst</th>\n",
       "      <th>Junior Business Development Associate</th>\n",
       "      <th>Junior Financial Analyst</th>\n",
       "      <th>Junior Marketing Analyst</th>\n",
       "      <th>Junior Marketing Coordinator</th>\n",
       "      <th>Junior Marketing Manager</th>\n",
       "      <th>Junior Marketing Specialist</th>\n",
       "      <th>...</th>\n",
       "      <th>Senior Operations Manager</th>\n",
       "      <th>Senior Product Designer</th>\n",
       "      <th>Senior Product Manager</th>\n",
       "      <th>Senior Project Coordinator</th>\n",
       "      <th>Senior Project Manager</th>\n",
       "      <th>Senior Scientist</th>\n",
       "      <th>Senior Software Developer</th>\n",
       "      <th>Senior Software Engineer</th>\n",
       "      <th>Senior UX Designer</th>\n",
       "      <th>other</th>\n",
       "    </tr>\n",
       "  </thead>\n",
       "  <tbody>\n",
       "    <tr>\n",
       "      <th>0</th>\n",
       "      <td>False</td>\n",
       "      <td>False</td>\n",
       "      <td>False</td>\n",
       "      <td>False</td>\n",
       "      <td>False</td>\n",
       "      <td>False</td>\n",
       "      <td>False</td>\n",
       "      <td>False</td>\n",
       "      <td>False</td>\n",
       "      <td>False</td>\n",
       "      <td>...</td>\n",
       "      <td>False</td>\n",
       "      <td>False</td>\n",
       "      <td>False</td>\n",
       "      <td>False</td>\n",
       "      <td>False</td>\n",
       "      <td>False</td>\n",
       "      <td>False</td>\n",
       "      <td>False</td>\n",
       "      <td>False</td>\n",
       "      <td>True</td>\n",
       "    </tr>\n",
       "    <tr>\n",
       "      <th>1</th>\n",
       "      <td>False</td>\n",
       "      <td>False</td>\n",
       "      <td>False</td>\n",
       "      <td>False</td>\n",
       "      <td>False</td>\n",
       "      <td>False</td>\n",
       "      <td>False</td>\n",
       "      <td>False</td>\n",
       "      <td>False</td>\n",
       "      <td>False</td>\n",
       "      <td>...</td>\n",
       "      <td>False</td>\n",
       "      <td>False</td>\n",
       "      <td>False</td>\n",
       "      <td>False</td>\n",
       "      <td>False</td>\n",
       "      <td>False</td>\n",
       "      <td>False</td>\n",
       "      <td>False</td>\n",
       "      <td>False</td>\n",
       "      <td>True</td>\n",
       "    </tr>\n",
       "    <tr>\n",
       "      <th>2</th>\n",
       "      <td>False</td>\n",
       "      <td>False</td>\n",
       "      <td>False</td>\n",
       "      <td>False</td>\n",
       "      <td>False</td>\n",
       "      <td>False</td>\n",
       "      <td>False</td>\n",
       "      <td>False</td>\n",
       "      <td>False</td>\n",
       "      <td>False</td>\n",
       "      <td>...</td>\n",
       "      <td>False</td>\n",
       "      <td>False</td>\n",
       "      <td>False</td>\n",
       "      <td>False</td>\n",
       "      <td>False</td>\n",
       "      <td>False</td>\n",
       "      <td>False</td>\n",
       "      <td>False</td>\n",
       "      <td>False</td>\n",
       "      <td>True</td>\n",
       "    </tr>\n",
       "  </tbody>\n",
       "</table>\n",
       "<p>3 rows × 41 columns</p>\n",
       "</div>"
      ],
      "text/plain": [
       "   Director of Marketing  Director of Operations  Junior Accountant  \\\n",
       "0                  False                   False              False   \n",
       "1                  False                   False              False   \n",
       "2                  False                   False              False   \n",
       "\n",
       "   Junior Business Analyst  Junior Business Development Associate  \\\n",
       "0                    False                                  False   \n",
       "1                    False                                  False   \n",
       "2                    False                                  False   \n",
       "\n",
       "   Junior Financial Analyst  Junior Marketing Analyst  \\\n",
       "0                     False                     False   \n",
       "1                     False                     False   \n",
       "2                     False                     False   \n",
       "\n",
       "   Junior Marketing Coordinator  Junior Marketing Manager  \\\n",
       "0                         False                     False   \n",
       "1                         False                     False   \n",
       "2                         False                     False   \n",
       "\n",
       "   Junior Marketing Specialist  ...  Senior Operations Manager  \\\n",
       "0                        False  ...                      False   \n",
       "1                        False  ...                      False   \n",
       "2                        False  ...                      False   \n",
       "\n",
       "   Senior Product Designer  Senior Product Manager  \\\n",
       "0                    False                   False   \n",
       "1                    False                   False   \n",
       "2                    False                   False   \n",
       "\n",
       "   Senior Project Coordinator  Senior Project Manager  Senior Scientist  \\\n",
       "0                       False                   False             False   \n",
       "1                       False                   False             False   \n",
       "2                       False                   False             False   \n",
       "\n",
       "   Senior Software Developer  Senior Software Engineer  Senior UX Designer  \\\n",
       "0                      False                     False               False   \n",
       "1                      False                     False               False   \n",
       "2                      False                     False               False   \n",
       "\n",
       "   other  \n",
       "0   True  \n",
       "1   True  \n",
       "2   True  \n",
       "\n",
       "[3 rows x 41 columns]"
      ]
     },
     "execution_count": 29,
     "metadata": {},
     "output_type": "execute_result"
    }
   ],
   "source": [
    "dummies1.head(3)"
   ]
  },
  {
   "cell_type": "code",
   "execution_count": 30,
   "id": "5690c569-ca03-4b3e-9cc9-5858d319c99e",
   "metadata": {},
   "outputs": [],
   "source": [
    "df3 = pd.concat([df2, dummies, dummies1.drop('other',axis = 'columns')], axis = 'columns')"
   ]
  },
  {
   "cell_type": "code",
   "execution_count": 31,
   "id": "ca927210-f07b-4caf-b8a1-f75caec8684f",
   "metadata": {},
   "outputs": [],
   "source": [
    "df4 = df3.drop('Gender', axis = 'columns')\n",
    "df5 = df4.drop('Job_title', axis = 'columns')"
   ]
  },
  {
   "cell_type": "code",
   "execution_count": 32,
   "id": "ddcba67f-6ae4-4a49-9b5b-a30308382dc8",
   "metadata": {},
   "outputs": [
    {
     "data": {
      "text/html": [
       "<div>\n",
       "<style scoped>\n",
       "    .dataframe tbody tr th:only-of-type {\n",
       "        vertical-align: middle;\n",
       "    }\n",
       "\n",
       "    .dataframe tbody tr th {\n",
       "        vertical-align: top;\n",
       "    }\n",
       "\n",
       "    .dataframe thead th {\n",
       "        text-align: right;\n",
       "    }\n",
       "</style>\n",
       "<table border=\"1\" class=\"dataframe\">\n",
       "  <thead>\n",
       "    <tr style=\"text-align: right;\">\n",
       "      <th></th>\n",
       "      <th>Age</th>\n",
       "      <th>Education_Level</th>\n",
       "      <th>Years_of_Experience</th>\n",
       "      <th>Salary</th>\n",
       "      <th>Female</th>\n",
       "      <th>Male</th>\n",
       "      <th>Director of Marketing</th>\n",
       "      <th>Director of Operations</th>\n",
       "      <th>Junior Accountant</th>\n",
       "      <th>Junior Business Analyst</th>\n",
       "      <th>...</th>\n",
       "      <th>Senior Operations Coordinator</th>\n",
       "      <th>Senior Operations Manager</th>\n",
       "      <th>Senior Product Designer</th>\n",
       "      <th>Senior Product Manager</th>\n",
       "      <th>Senior Project Coordinator</th>\n",
       "      <th>Senior Project Manager</th>\n",
       "      <th>Senior Scientist</th>\n",
       "      <th>Senior Software Developer</th>\n",
       "      <th>Senior Software Engineer</th>\n",
       "      <th>Senior UX Designer</th>\n",
       "    </tr>\n",
       "  </thead>\n",
       "  <tbody>\n",
       "    <tr>\n",
       "      <th>0</th>\n",
       "      <td>32.0</td>\n",
       "      <td>0.0</td>\n",
       "      <td>5.0</td>\n",
       "      <td>90000.0</td>\n",
       "      <td>False</td>\n",
       "      <td>True</td>\n",
       "      <td>False</td>\n",
       "      <td>False</td>\n",
       "      <td>False</td>\n",
       "      <td>False</td>\n",
       "      <td>...</td>\n",
       "      <td>False</td>\n",
       "      <td>False</td>\n",
       "      <td>False</td>\n",
       "      <td>False</td>\n",
       "      <td>False</td>\n",
       "      <td>False</td>\n",
       "      <td>False</td>\n",
       "      <td>False</td>\n",
       "      <td>False</td>\n",
       "      <td>False</td>\n",
       "    </tr>\n",
       "    <tr>\n",
       "      <th>1</th>\n",
       "      <td>28.0</td>\n",
       "      <td>1.0</td>\n",
       "      <td>3.0</td>\n",
       "      <td>65000.0</td>\n",
       "      <td>True</td>\n",
       "      <td>False</td>\n",
       "      <td>False</td>\n",
       "      <td>False</td>\n",
       "      <td>False</td>\n",
       "      <td>False</td>\n",
       "      <td>...</td>\n",
       "      <td>False</td>\n",
       "      <td>False</td>\n",
       "      <td>False</td>\n",
       "      <td>False</td>\n",
       "      <td>False</td>\n",
       "      <td>False</td>\n",
       "      <td>False</td>\n",
       "      <td>False</td>\n",
       "      <td>False</td>\n",
       "      <td>False</td>\n",
       "    </tr>\n",
       "  </tbody>\n",
       "</table>\n",
       "<p>2 rows × 46 columns</p>\n",
       "</div>"
      ],
      "text/plain": [
       "    Age  Education_Level  Years_of_Experience   Salary  Female   Male  \\\n",
       "0  32.0              0.0                  5.0  90000.0   False   True   \n",
       "1  28.0              1.0                  3.0  65000.0    True  False   \n",
       "\n",
       "   Director of Marketing  Director of Operations  Junior Accountant  \\\n",
       "0                  False                   False              False   \n",
       "1                  False                   False              False   \n",
       "\n",
       "   Junior Business Analyst  ...  Senior Operations Coordinator  \\\n",
       "0                    False  ...                          False   \n",
       "1                    False  ...                          False   \n",
       "\n",
       "   Senior Operations Manager  Senior Product Designer  Senior Product Manager  \\\n",
       "0                      False                    False                   False   \n",
       "1                      False                    False                   False   \n",
       "\n",
       "   Senior Project Coordinator  Senior Project Manager  Senior Scientist  \\\n",
       "0                       False                   False             False   \n",
       "1                       False                   False             False   \n",
       "\n",
       "   Senior Software Developer  Senior Software Engineer  Senior UX Designer  \n",
       "0                      False                     False               False  \n",
       "1                      False                     False               False  \n",
       "\n",
       "[2 rows x 46 columns]"
      ]
     },
     "execution_count": 32,
     "metadata": {},
     "output_type": "execute_result"
    }
   ],
   "source": [
    "df5.head(2)"
   ]
  },
  {
   "cell_type": "code",
   "execution_count": 33,
   "id": "10c5cfd5-887f-4912-ab5e-aab7a03f9844",
   "metadata": {},
   "outputs": [],
   "source": [
    "df6 = df5.astype(int)"
   ]
  },
  {
   "cell_type": "code",
   "execution_count": 34,
   "id": "7f3465f8-f2de-45a2-9b1c-bb3007d53c50",
   "metadata": {},
   "outputs": [
    {
     "data": {
      "text/html": [
       "<div>\n",
       "<style scoped>\n",
       "    .dataframe tbody tr th:only-of-type {\n",
       "        vertical-align: middle;\n",
       "    }\n",
       "\n",
       "    .dataframe tbody tr th {\n",
       "        vertical-align: top;\n",
       "    }\n",
       "\n",
       "    .dataframe thead th {\n",
       "        text-align: right;\n",
       "    }\n",
       "</style>\n",
       "<table border=\"1\" class=\"dataframe\">\n",
       "  <thead>\n",
       "    <tr style=\"text-align: right;\">\n",
       "      <th></th>\n",
       "      <th>Age</th>\n",
       "      <th>Education_Level</th>\n",
       "      <th>Years_of_Experience</th>\n",
       "      <th>Salary</th>\n",
       "      <th>Female</th>\n",
       "      <th>Male</th>\n",
       "      <th>Director of Marketing</th>\n",
       "      <th>Director of Operations</th>\n",
       "      <th>Junior Accountant</th>\n",
       "      <th>Junior Business Analyst</th>\n",
       "      <th>...</th>\n",
       "      <th>Senior Operations Coordinator</th>\n",
       "      <th>Senior Operations Manager</th>\n",
       "      <th>Senior Product Designer</th>\n",
       "      <th>Senior Product Manager</th>\n",
       "      <th>Senior Project Coordinator</th>\n",
       "      <th>Senior Project Manager</th>\n",
       "      <th>Senior Scientist</th>\n",
       "      <th>Senior Software Developer</th>\n",
       "      <th>Senior Software Engineer</th>\n",
       "      <th>Senior UX Designer</th>\n",
       "    </tr>\n",
       "  </thead>\n",
       "  <tbody>\n",
       "    <tr>\n",
       "      <th>0</th>\n",
       "      <td>32</td>\n",
       "      <td>0</td>\n",
       "      <td>5</td>\n",
       "      <td>90000</td>\n",
       "      <td>0</td>\n",
       "      <td>1</td>\n",
       "      <td>0</td>\n",
       "      <td>0</td>\n",
       "      <td>0</td>\n",
       "      <td>0</td>\n",
       "      <td>...</td>\n",
       "      <td>0</td>\n",
       "      <td>0</td>\n",
       "      <td>0</td>\n",
       "      <td>0</td>\n",
       "      <td>0</td>\n",
       "      <td>0</td>\n",
       "      <td>0</td>\n",
       "      <td>0</td>\n",
       "      <td>0</td>\n",
       "      <td>0</td>\n",
       "    </tr>\n",
       "    <tr>\n",
       "      <th>1</th>\n",
       "      <td>28</td>\n",
       "      <td>1</td>\n",
       "      <td>3</td>\n",
       "      <td>65000</td>\n",
       "      <td>1</td>\n",
       "      <td>0</td>\n",
       "      <td>0</td>\n",
       "      <td>0</td>\n",
       "      <td>0</td>\n",
       "      <td>0</td>\n",
       "      <td>...</td>\n",
       "      <td>0</td>\n",
       "      <td>0</td>\n",
       "      <td>0</td>\n",
       "      <td>0</td>\n",
       "      <td>0</td>\n",
       "      <td>0</td>\n",
       "      <td>0</td>\n",
       "      <td>0</td>\n",
       "      <td>0</td>\n",
       "      <td>0</td>\n",
       "    </tr>\n",
       "  </tbody>\n",
       "</table>\n",
       "<p>2 rows × 46 columns</p>\n",
       "</div>"
      ],
      "text/plain": [
       "   Age  Education_Level  Years_of_Experience  Salary  Female  Male  \\\n",
       "0   32                0                    5   90000       0     1   \n",
       "1   28                1                    3   65000       1     0   \n",
       "\n",
       "   Director of Marketing  Director of Operations  Junior Accountant  \\\n",
       "0                      0                       0                  0   \n",
       "1                      0                       0                  0   \n",
       "\n",
       "   Junior Business Analyst  ...  Senior Operations Coordinator  \\\n",
       "0                        0  ...                              0   \n",
       "1                        0  ...                              0   \n",
       "\n",
       "   Senior Operations Manager  Senior Product Designer  Senior Product Manager  \\\n",
       "0                          0                        0                       0   \n",
       "1                          0                        0                       0   \n",
       "\n",
       "   Senior Project Coordinator  Senior Project Manager  Senior Scientist  \\\n",
       "0                           0                       0                 0   \n",
       "1                           0                       0                 0   \n",
       "\n",
       "   Senior Software Developer  Senior Software Engineer  Senior UX Designer  \n",
       "0                          0                         0                   0  \n",
       "1                          0                         0                   0  \n",
       "\n",
       "[2 rows x 46 columns]"
      ]
     },
     "execution_count": 34,
     "metadata": {},
     "output_type": "execute_result"
    }
   ],
   "source": [
    "df6.head(2)"
   ]
  },
  {
   "cell_type": "markdown",
   "id": "560ae496-7520-4aee-bb5b-2dcdfc8a2f86",
   "metadata": {
    "jp-MarkdownHeadingCollapsed": true
   },
   "source": [
    "### ***Step 6 Model Building***"
   ]
  },
  {
   "cell_type": "code",
   "execution_count": 35,
   "id": "d1d2e441-65d0-4afd-811f-8b858177f304",
   "metadata": {},
   "outputs": [],
   "source": [
    "X = df6.drop('Salary', axis = 'columns')\n",
    "Y = df6.Salary"
   ]
  },
  {
   "cell_type": "code",
   "execution_count": 36,
   "id": "70d5fb3a-63d9-471c-8b89-9f52a96e1472",
   "metadata": {},
   "outputs": [],
   "source": [
    "from sklearn.model_selection import train_test_split\n",
    "X_train, X_test, Y_train, Y_test = train_test_split(X,Y, test_size = 0.2, random_state = 10)"
   ]
  },
  {
   "cell_type": "code",
   "execution_count": 37,
   "id": "478c263a-410c-4bbf-b4b7-484732352977",
   "metadata": {},
   "outputs": [
    {
     "data": {
      "text/plain": [
       "0.918787239080554"
      ]
     },
     "execution_count": 37,
     "metadata": {},
     "output_type": "execute_result"
    }
   ],
   "source": [
    "from sklearn.linear_model import LinearRegression\n",
    "regression = LinearRegression()\n",
    "\n",
    "#lr_clf : linear regression classifier\n",
    "lr_clf = LinearRegression()\n",
    "lr_clf.fit(X_train, Y_train)\n",
    "lr_clf.score(X_test, Y_test)"
   ]
  },
  {
   "cell_type": "code",
   "execution_count": 38,
   "id": "74d5187b-df14-41a2-9ade-316691d64787",
   "metadata": {},
   "outputs": [
    {
     "data": {
      "text/html": [
       "<style>#sk-container-id-1 {\n",
       "  /* Definition of color scheme common for light and dark mode */\n",
       "  --sklearn-color-text: #000;\n",
       "  --sklearn-color-text-muted: #666;\n",
       "  --sklearn-color-line: gray;\n",
       "  /* Definition of color scheme for unfitted estimators */\n",
       "  --sklearn-color-unfitted-level-0: #fff5e6;\n",
       "  --sklearn-color-unfitted-level-1: #f6e4d2;\n",
       "  --sklearn-color-unfitted-level-2: #ffe0b3;\n",
       "  --sklearn-color-unfitted-level-3: chocolate;\n",
       "  /* Definition of color scheme for fitted estimators */\n",
       "  --sklearn-color-fitted-level-0: #f0f8ff;\n",
       "  --sklearn-color-fitted-level-1: #d4ebff;\n",
       "  --sklearn-color-fitted-level-2: #b3dbfd;\n",
       "  --sklearn-color-fitted-level-3: cornflowerblue;\n",
       "\n",
       "  /* Specific color for light theme */\n",
       "  --sklearn-color-text-on-default-background: var(--sg-text-color, var(--theme-code-foreground, var(--jp-content-font-color1, black)));\n",
       "  --sklearn-color-background: var(--sg-background-color, var(--theme-background, var(--jp-layout-color0, white)));\n",
       "  --sklearn-color-border-box: var(--sg-text-color, var(--theme-code-foreground, var(--jp-content-font-color1, black)));\n",
       "  --sklearn-color-icon: #696969;\n",
       "\n",
       "  @media (prefers-color-scheme: dark) {\n",
       "    /* Redefinition of color scheme for dark theme */\n",
       "    --sklearn-color-text-on-default-background: var(--sg-text-color, var(--theme-code-foreground, var(--jp-content-font-color1, white)));\n",
       "    --sklearn-color-background: var(--sg-background-color, var(--theme-background, var(--jp-layout-color0, #111)));\n",
       "    --sklearn-color-border-box: var(--sg-text-color, var(--theme-code-foreground, var(--jp-content-font-color1, white)));\n",
       "    --sklearn-color-icon: #878787;\n",
       "  }\n",
       "}\n",
       "\n",
       "#sk-container-id-1 {\n",
       "  color: var(--sklearn-color-text);\n",
       "}\n",
       "\n",
       "#sk-container-id-1 pre {\n",
       "  padding: 0;\n",
       "}\n",
       "\n",
       "#sk-container-id-1 input.sk-hidden--visually {\n",
       "  border: 0;\n",
       "  clip: rect(1px 1px 1px 1px);\n",
       "  clip: rect(1px, 1px, 1px, 1px);\n",
       "  height: 1px;\n",
       "  margin: -1px;\n",
       "  overflow: hidden;\n",
       "  padding: 0;\n",
       "  position: absolute;\n",
       "  width: 1px;\n",
       "}\n",
       "\n",
       "#sk-container-id-1 div.sk-dashed-wrapped {\n",
       "  border: 1px dashed var(--sklearn-color-line);\n",
       "  margin: 0 0.4em 0.5em 0.4em;\n",
       "  box-sizing: border-box;\n",
       "  padding-bottom: 0.4em;\n",
       "  background-color: var(--sklearn-color-background);\n",
       "}\n",
       "\n",
       "#sk-container-id-1 div.sk-container {\n",
       "  /* jupyter's `normalize.less` sets `[hidden] { display: none; }`\n",
       "     but bootstrap.min.css set `[hidden] { display: none !important; }`\n",
       "     so we also need the `!important` here to be able to override the\n",
       "     default hidden behavior on the sphinx rendered scikit-learn.org.\n",
       "     See: https://github.com/scikit-learn/scikit-learn/issues/21755 */\n",
       "  display: inline-block !important;\n",
       "  position: relative;\n",
       "}\n",
       "\n",
       "#sk-container-id-1 div.sk-text-repr-fallback {\n",
       "  display: none;\n",
       "}\n",
       "\n",
       "div.sk-parallel-item,\n",
       "div.sk-serial,\n",
       "div.sk-item {\n",
       "  /* draw centered vertical line to link estimators */\n",
       "  background-image: linear-gradient(var(--sklearn-color-text-on-default-background), var(--sklearn-color-text-on-default-background));\n",
       "  background-size: 2px 100%;\n",
       "  background-repeat: no-repeat;\n",
       "  background-position: center center;\n",
       "}\n",
       "\n",
       "/* Parallel-specific style estimator block */\n",
       "\n",
       "#sk-container-id-1 div.sk-parallel-item::after {\n",
       "  content: \"\";\n",
       "  width: 100%;\n",
       "  border-bottom: 2px solid var(--sklearn-color-text-on-default-background);\n",
       "  flex-grow: 1;\n",
       "}\n",
       "\n",
       "#sk-container-id-1 div.sk-parallel {\n",
       "  display: flex;\n",
       "  align-items: stretch;\n",
       "  justify-content: center;\n",
       "  background-color: var(--sklearn-color-background);\n",
       "  position: relative;\n",
       "}\n",
       "\n",
       "#sk-container-id-1 div.sk-parallel-item {\n",
       "  display: flex;\n",
       "  flex-direction: column;\n",
       "}\n",
       "\n",
       "#sk-container-id-1 div.sk-parallel-item:first-child::after {\n",
       "  align-self: flex-end;\n",
       "  width: 50%;\n",
       "}\n",
       "\n",
       "#sk-container-id-1 div.sk-parallel-item:last-child::after {\n",
       "  align-self: flex-start;\n",
       "  width: 50%;\n",
       "}\n",
       "\n",
       "#sk-container-id-1 div.sk-parallel-item:only-child::after {\n",
       "  width: 0;\n",
       "}\n",
       "\n",
       "/* Serial-specific style estimator block */\n",
       "\n",
       "#sk-container-id-1 div.sk-serial {\n",
       "  display: flex;\n",
       "  flex-direction: column;\n",
       "  align-items: center;\n",
       "  background-color: var(--sklearn-color-background);\n",
       "  padding-right: 1em;\n",
       "  padding-left: 1em;\n",
       "}\n",
       "\n",
       "\n",
       "/* Toggleable style: style used for estimator/Pipeline/ColumnTransformer box that is\n",
       "clickable and can be expanded/collapsed.\n",
       "- Pipeline and ColumnTransformer use this feature and define the default style\n",
       "- Estimators will overwrite some part of the style using the `sk-estimator` class\n",
       "*/\n",
       "\n",
       "/* Pipeline and ColumnTransformer style (default) */\n",
       "\n",
       "#sk-container-id-1 div.sk-toggleable {\n",
       "  /* Default theme specific background. It is overwritten whether we have a\n",
       "  specific estimator or a Pipeline/ColumnTransformer */\n",
       "  background-color: var(--sklearn-color-background);\n",
       "}\n",
       "\n",
       "/* Toggleable label */\n",
       "#sk-container-id-1 label.sk-toggleable__label {\n",
       "  cursor: pointer;\n",
       "  display: flex;\n",
       "  width: 100%;\n",
       "  margin-bottom: 0;\n",
       "  padding: 0.5em;\n",
       "  box-sizing: border-box;\n",
       "  text-align: center;\n",
       "  align-items: start;\n",
       "  justify-content: space-between;\n",
       "  gap: 0.5em;\n",
       "}\n",
       "\n",
       "#sk-container-id-1 label.sk-toggleable__label .caption {\n",
       "  font-size: 0.6rem;\n",
       "  font-weight: lighter;\n",
       "  color: var(--sklearn-color-text-muted);\n",
       "}\n",
       "\n",
       "#sk-container-id-1 label.sk-toggleable__label-arrow:before {\n",
       "  /* Arrow on the left of the label */\n",
       "  content: \"▸\";\n",
       "  float: left;\n",
       "  margin-right: 0.25em;\n",
       "  color: var(--sklearn-color-icon);\n",
       "}\n",
       "\n",
       "#sk-container-id-1 label.sk-toggleable__label-arrow:hover:before {\n",
       "  color: var(--sklearn-color-text);\n",
       "}\n",
       "\n",
       "/* Toggleable content - dropdown */\n",
       "\n",
       "#sk-container-id-1 div.sk-toggleable__content {\n",
       "  max-height: 0;\n",
       "  max-width: 0;\n",
       "  overflow: hidden;\n",
       "  text-align: left;\n",
       "  /* unfitted */\n",
       "  background-color: var(--sklearn-color-unfitted-level-0);\n",
       "}\n",
       "\n",
       "#sk-container-id-1 div.sk-toggleable__content.fitted {\n",
       "  /* fitted */\n",
       "  background-color: var(--sklearn-color-fitted-level-0);\n",
       "}\n",
       "\n",
       "#sk-container-id-1 div.sk-toggleable__content pre {\n",
       "  margin: 0.2em;\n",
       "  border-radius: 0.25em;\n",
       "  color: var(--sklearn-color-text);\n",
       "  /* unfitted */\n",
       "  background-color: var(--sklearn-color-unfitted-level-0);\n",
       "}\n",
       "\n",
       "#sk-container-id-1 div.sk-toggleable__content.fitted pre {\n",
       "  /* unfitted */\n",
       "  background-color: var(--sklearn-color-fitted-level-0);\n",
       "}\n",
       "\n",
       "#sk-container-id-1 input.sk-toggleable__control:checked~div.sk-toggleable__content {\n",
       "  /* Expand drop-down */\n",
       "  max-height: 200px;\n",
       "  max-width: 100%;\n",
       "  overflow: auto;\n",
       "}\n",
       "\n",
       "#sk-container-id-1 input.sk-toggleable__control:checked~label.sk-toggleable__label-arrow:before {\n",
       "  content: \"▾\";\n",
       "}\n",
       "\n",
       "/* Pipeline/ColumnTransformer-specific style */\n",
       "\n",
       "#sk-container-id-1 div.sk-label input.sk-toggleable__control:checked~label.sk-toggleable__label {\n",
       "  color: var(--sklearn-color-text);\n",
       "  background-color: var(--sklearn-color-unfitted-level-2);\n",
       "}\n",
       "\n",
       "#sk-container-id-1 div.sk-label.fitted input.sk-toggleable__control:checked~label.sk-toggleable__label {\n",
       "  background-color: var(--sklearn-color-fitted-level-2);\n",
       "}\n",
       "\n",
       "/* Estimator-specific style */\n",
       "\n",
       "/* Colorize estimator box */\n",
       "#sk-container-id-1 div.sk-estimator input.sk-toggleable__control:checked~label.sk-toggleable__label {\n",
       "  /* unfitted */\n",
       "  background-color: var(--sklearn-color-unfitted-level-2);\n",
       "}\n",
       "\n",
       "#sk-container-id-1 div.sk-estimator.fitted input.sk-toggleable__control:checked~label.sk-toggleable__label {\n",
       "  /* fitted */\n",
       "  background-color: var(--sklearn-color-fitted-level-2);\n",
       "}\n",
       "\n",
       "#sk-container-id-1 div.sk-label label.sk-toggleable__label,\n",
       "#sk-container-id-1 div.sk-label label {\n",
       "  /* The background is the default theme color */\n",
       "  color: var(--sklearn-color-text-on-default-background);\n",
       "}\n",
       "\n",
       "/* On hover, darken the color of the background */\n",
       "#sk-container-id-1 div.sk-label:hover label.sk-toggleable__label {\n",
       "  color: var(--sklearn-color-text);\n",
       "  background-color: var(--sklearn-color-unfitted-level-2);\n",
       "}\n",
       "\n",
       "/* Label box, darken color on hover, fitted */\n",
       "#sk-container-id-1 div.sk-label.fitted:hover label.sk-toggleable__label.fitted {\n",
       "  color: var(--sklearn-color-text);\n",
       "  background-color: var(--sklearn-color-fitted-level-2);\n",
       "}\n",
       "\n",
       "/* Estimator label */\n",
       "\n",
       "#sk-container-id-1 div.sk-label label {\n",
       "  font-family: monospace;\n",
       "  font-weight: bold;\n",
       "  display: inline-block;\n",
       "  line-height: 1.2em;\n",
       "}\n",
       "\n",
       "#sk-container-id-1 div.sk-label-container {\n",
       "  text-align: center;\n",
       "}\n",
       "\n",
       "/* Estimator-specific */\n",
       "#sk-container-id-1 div.sk-estimator {\n",
       "  font-family: monospace;\n",
       "  border: 1px dotted var(--sklearn-color-border-box);\n",
       "  border-radius: 0.25em;\n",
       "  box-sizing: border-box;\n",
       "  margin-bottom: 0.5em;\n",
       "  /* unfitted */\n",
       "  background-color: var(--sklearn-color-unfitted-level-0);\n",
       "}\n",
       "\n",
       "#sk-container-id-1 div.sk-estimator.fitted {\n",
       "  /* fitted */\n",
       "  background-color: var(--sklearn-color-fitted-level-0);\n",
       "}\n",
       "\n",
       "/* on hover */\n",
       "#sk-container-id-1 div.sk-estimator:hover {\n",
       "  /* unfitted */\n",
       "  background-color: var(--sklearn-color-unfitted-level-2);\n",
       "}\n",
       "\n",
       "#sk-container-id-1 div.sk-estimator.fitted:hover {\n",
       "  /* fitted */\n",
       "  background-color: var(--sklearn-color-fitted-level-2);\n",
       "}\n",
       "\n",
       "/* Specification for estimator info (e.g. \"i\" and \"?\") */\n",
       "\n",
       "/* Common style for \"i\" and \"?\" */\n",
       "\n",
       ".sk-estimator-doc-link,\n",
       "a:link.sk-estimator-doc-link,\n",
       "a:visited.sk-estimator-doc-link {\n",
       "  float: right;\n",
       "  font-size: smaller;\n",
       "  line-height: 1em;\n",
       "  font-family: monospace;\n",
       "  background-color: var(--sklearn-color-background);\n",
       "  border-radius: 1em;\n",
       "  height: 1em;\n",
       "  width: 1em;\n",
       "  text-decoration: none !important;\n",
       "  margin-left: 0.5em;\n",
       "  text-align: center;\n",
       "  /* unfitted */\n",
       "  border: var(--sklearn-color-unfitted-level-1) 1pt solid;\n",
       "  color: var(--sklearn-color-unfitted-level-1);\n",
       "}\n",
       "\n",
       ".sk-estimator-doc-link.fitted,\n",
       "a:link.sk-estimator-doc-link.fitted,\n",
       "a:visited.sk-estimator-doc-link.fitted {\n",
       "  /* fitted */\n",
       "  border: var(--sklearn-color-fitted-level-1) 1pt solid;\n",
       "  color: var(--sklearn-color-fitted-level-1);\n",
       "}\n",
       "\n",
       "/* On hover */\n",
       "div.sk-estimator:hover .sk-estimator-doc-link:hover,\n",
       ".sk-estimator-doc-link:hover,\n",
       "div.sk-label-container:hover .sk-estimator-doc-link:hover,\n",
       ".sk-estimator-doc-link:hover {\n",
       "  /* unfitted */\n",
       "  background-color: var(--sklearn-color-unfitted-level-3);\n",
       "  color: var(--sklearn-color-background);\n",
       "  text-decoration: none;\n",
       "}\n",
       "\n",
       "div.sk-estimator.fitted:hover .sk-estimator-doc-link.fitted:hover,\n",
       ".sk-estimator-doc-link.fitted:hover,\n",
       "div.sk-label-container:hover .sk-estimator-doc-link.fitted:hover,\n",
       ".sk-estimator-doc-link.fitted:hover {\n",
       "  /* fitted */\n",
       "  background-color: var(--sklearn-color-fitted-level-3);\n",
       "  color: var(--sklearn-color-background);\n",
       "  text-decoration: none;\n",
       "}\n",
       "\n",
       "/* Span, style for the box shown on hovering the info icon */\n",
       ".sk-estimator-doc-link span {\n",
       "  display: none;\n",
       "  z-index: 9999;\n",
       "  position: relative;\n",
       "  font-weight: normal;\n",
       "  right: .2ex;\n",
       "  padding: .5ex;\n",
       "  margin: .5ex;\n",
       "  width: min-content;\n",
       "  min-width: 20ex;\n",
       "  max-width: 50ex;\n",
       "  color: var(--sklearn-color-text);\n",
       "  box-shadow: 2pt 2pt 4pt #999;\n",
       "  /* unfitted */\n",
       "  background: var(--sklearn-color-unfitted-level-0);\n",
       "  border: .5pt solid var(--sklearn-color-unfitted-level-3);\n",
       "}\n",
       "\n",
       ".sk-estimator-doc-link.fitted span {\n",
       "  /* fitted */\n",
       "  background: var(--sklearn-color-fitted-level-0);\n",
       "  border: var(--sklearn-color-fitted-level-3);\n",
       "}\n",
       "\n",
       ".sk-estimator-doc-link:hover span {\n",
       "  display: block;\n",
       "}\n",
       "\n",
       "/* \"?\"-specific style due to the `<a>` HTML tag */\n",
       "\n",
       "#sk-container-id-1 a.estimator_doc_link {\n",
       "  float: right;\n",
       "  font-size: 1rem;\n",
       "  line-height: 1em;\n",
       "  font-family: monospace;\n",
       "  background-color: var(--sklearn-color-background);\n",
       "  border-radius: 1rem;\n",
       "  height: 1rem;\n",
       "  width: 1rem;\n",
       "  text-decoration: none;\n",
       "  /* unfitted */\n",
       "  color: var(--sklearn-color-unfitted-level-1);\n",
       "  border: var(--sklearn-color-unfitted-level-1) 1pt solid;\n",
       "}\n",
       "\n",
       "#sk-container-id-1 a.estimator_doc_link.fitted {\n",
       "  /* fitted */\n",
       "  border: var(--sklearn-color-fitted-level-1) 1pt solid;\n",
       "  color: var(--sklearn-color-fitted-level-1);\n",
       "}\n",
       "\n",
       "/* On hover */\n",
       "#sk-container-id-1 a.estimator_doc_link:hover {\n",
       "  /* unfitted */\n",
       "  background-color: var(--sklearn-color-unfitted-level-3);\n",
       "  color: var(--sklearn-color-background);\n",
       "  text-decoration: none;\n",
       "}\n",
       "\n",
       "#sk-container-id-1 a.estimator_doc_link.fitted:hover {\n",
       "  /* fitted */\n",
       "  background-color: var(--sklearn-color-fitted-level-3);\n",
       "}\n",
       "</style><div id=\"sk-container-id-1\" class=\"sk-top-container\"><div class=\"sk-text-repr-fallback\"><pre>LinearRegression()</pre><b>In a Jupyter environment, please rerun this cell to show the HTML representation or trust the notebook. <br />On GitHub, the HTML representation is unable to render, please try loading this page with nbviewer.org.</b></div><div class=\"sk-container\" hidden><div class=\"sk-item\"><div class=\"sk-estimator fitted sk-toggleable\"><input class=\"sk-toggleable__control sk-hidden--visually\" id=\"sk-estimator-id-1\" type=\"checkbox\" checked><label for=\"sk-estimator-id-1\" class=\"sk-toggleable__label fitted sk-toggleable__label-arrow\"><div><div>LinearRegression</div></div><div><a class=\"sk-estimator-doc-link fitted\" rel=\"noreferrer\" target=\"_blank\" href=\"https://scikit-learn.org/1.6/modules/generated/sklearn.linear_model.LinearRegression.html\">?<span>Documentation for LinearRegression</span></a><span class=\"sk-estimator-doc-link fitted\">i<span>Fitted</span></span></div></label><div class=\"sk-toggleable__content fitted\"><pre>LinearRegression()</pre></div> </div></div></div></div>"
      ],
      "text/plain": [
       "LinearRegression()"
      ]
     },
     "execution_count": 38,
     "metadata": {},
     "output_type": "execute_result"
    }
   ],
   "source": [
    "regression.fit(X_train, Y_train)"
   ]
  },
  {
   "cell_type": "code",
   "execution_count": 39,
   "id": "a978722e-a69a-4f70-853d-ca9e7e4030dd",
   "metadata": {},
   "outputs": [],
   "source": [
    "Y_pred = regression.predict(X_test)"
   ]
  },
  {
   "cell_type": "code",
   "execution_count": 40,
   "id": "214406c0-ed84-4bc1-91b0-b18c6ba34750",
   "metadata": {},
   "outputs": [
    {
     "data": {
      "image/png": "[encoded data removed]",
      "text/plain": [
       "<Figure size 1200x400 with 1 Axes>"
      ]
     },
     "metadata": {},
     "output_type": "display_data"
    }
   ],
   "source": [
    "plt.figure(figsize = (12,4))\n",
    "plt.scatter(Y_test,Y_pred,alpha = 0.7)\n",
    "plt.grid(alpha = 0.25)\n",
    "\n",
    "plt.xlabel(\"Actual Salary\")\n",
    "plt.ylabel(\"Predicted Salary\")\n",
    "plt.title(\"Actual vs Predicted Salary\")\n",
    "\n",
    "plt.show()"
   ]
  },
  {
   "cell_type": "markdown",
   "id": "3e262f4e-a303-4cba-85e3-6e69fbd8f909",
   "metadata": {},
   "source": [
    "### **Final Model Prediction**"
   ]
  },
  {
   "cell_type": "markdown",
   "id": "d019f27a-86ba-4056-87fe-6231a64b5ece",
   "metadata": {},
   "source": [
    "#### **For predict_salary function I took help by a Chatgpt**"
   ]
  },
  {
   "cell_type": "code",
   "execution_count": 41,
   "id": "ceac0b12-2382-407e-b69d-5cd59ac42b1f",
   "metadata": {},
   "outputs": [],
   "source": [
    "def predict_salary(Gender, Job_title, Age, Education_Level, Years_of_Experience):\n",
    "    # Find the index for the one-hot encoded Gender and Job_title\n",
    "    Gender_index = np.where(X.columns == Gender)[0][0]\n",
    "    job_index = np.where(X.columns == Job_title)[0][0]\n",
    "\n",
    "    # Create input array with zeros\n",
    "    x = np.zeros(len(X.columns))\n",
    "\n",
    "    # Assign numerical feature values\n",
    "    x[0] = Age\n",
    "    x[1] = Education_Level\n",
    "    x[2] = Years_of_Experience\n",
    "\n",
    "    # Set one-hot encoded values\n",
    "    if Gender_index >= 0:\n",
    "        x[Gender_index] = 1\n",
    "    if job_index >= 0:\n",
    "        x[job_index] = 1\n",
    "\n",
    "    # Predict using trained model\n",
    "    return int(lr_clf.predict([x])[0])\n"
   ]
  },
  {
   "cell_type": "code",
   "execution_count": 42,
   "id": "976b8475-b1cb-4cdb-a577-b25cddabccff",
   "metadata": {},
   "outputs": [
    {
     "data": {
      "text/html": [
       "<div>\n",
       "<style scoped>\n",
       "    .dataframe tbody tr th:only-of-type {\n",
       "        vertical-align: middle;\n",
       "    }\n",
       "\n",
       "    .dataframe tbody tr th {\n",
       "        vertical-align: top;\n",
       "    }\n",
       "\n",
       "    .dataframe thead th {\n",
       "        text-align: right;\n",
       "    }\n",
       "</style>\n",
       "<table border=\"1\" class=\"dataframe\">\n",
       "  <thead>\n",
       "    <tr style=\"text-align: right;\">\n",
       "      <th></th>\n",
       "      <th>Age</th>\n",
       "      <th>Education_Level</th>\n",
       "      <th>Years_of_Experience</th>\n",
       "      <th>Salary</th>\n",
       "      <th>Female</th>\n",
       "      <th>Male</th>\n",
       "      <th>Director of Marketing</th>\n",
       "      <th>Director of Operations</th>\n",
       "      <th>Junior Accountant</th>\n",
       "      <th>Junior Business Analyst</th>\n",
       "      <th>...</th>\n",
       "      <th>Senior Operations Coordinator</th>\n",
       "      <th>Senior Operations Manager</th>\n",
       "      <th>Senior Product Designer</th>\n",
       "      <th>Senior Product Manager</th>\n",
       "      <th>Senior Project Coordinator</th>\n",
       "      <th>Senior Project Manager</th>\n",
       "      <th>Senior Scientist</th>\n",
       "      <th>Senior Software Developer</th>\n",
       "      <th>Senior Software Engineer</th>\n",
       "      <th>Senior UX Designer</th>\n",
       "    </tr>\n",
       "  </thead>\n",
       "  <tbody>\n",
       "    <tr>\n",
       "      <th>371</th>\n",
       "      <td>43</td>\n",
       "      <td>1</td>\n",
       "      <td>19</td>\n",
       "      <td>170000</td>\n",
       "      <td>0</td>\n",
       "      <td>1</td>\n",
       "      <td>0</td>\n",
       "      <td>1</td>\n",
       "      <td>0</td>\n",
       "      <td>0</td>\n",
       "      <td>...</td>\n",
       "      <td>0</td>\n",
       "      <td>0</td>\n",
       "      <td>0</td>\n",
       "      <td>0</td>\n",
       "      <td>0</td>\n",
       "      <td>0</td>\n",
       "      <td>0</td>\n",
       "      <td>0</td>\n",
       "      <td>0</td>\n",
       "      <td>0</td>\n",
       "    </tr>\n",
       "    <tr>\n",
       "      <th>372</th>\n",
       "      <td>29</td>\n",
       "      <td>0</td>\n",
       "      <td>2</td>\n",
       "      <td>40000</td>\n",
       "      <td>1</td>\n",
       "      <td>0</td>\n",
       "      <td>0</td>\n",
       "      <td>0</td>\n",
       "      <td>0</td>\n",
       "      <td>0</td>\n",
       "      <td>...</td>\n",
       "      <td>0</td>\n",
       "      <td>0</td>\n",
       "      <td>0</td>\n",
       "      <td>0</td>\n",
       "      <td>0</td>\n",
       "      <td>0</td>\n",
       "      <td>0</td>\n",
       "      <td>0</td>\n",
       "      <td>0</td>\n",
       "      <td>0</td>\n",
       "    </tr>\n",
       "    <tr>\n",
       "      <th>373</th>\n",
       "      <td>34</td>\n",
       "      <td>0</td>\n",
       "      <td>7</td>\n",
       "      <td>90000</td>\n",
       "      <td>0</td>\n",
       "      <td>1</td>\n",
       "      <td>0</td>\n",
       "      <td>0</td>\n",
       "      <td>0</td>\n",
       "      <td>0</td>\n",
       "      <td>...</td>\n",
       "      <td>1</td>\n",
       "      <td>0</td>\n",
       "      <td>0</td>\n",
       "      <td>0</td>\n",
       "      <td>0</td>\n",
       "      <td>0</td>\n",
       "      <td>0</td>\n",
       "      <td>0</td>\n",
       "      <td>0</td>\n",
       "      <td>0</td>\n",
       "    </tr>\n",
       "    <tr>\n",
       "      <th>374</th>\n",
       "      <td>44</td>\n",
       "      <td>2</td>\n",
       "      <td>15</td>\n",
       "      <td>150000</td>\n",
       "      <td>1</td>\n",
       "      <td>0</td>\n",
       "      <td>0</td>\n",
       "      <td>0</td>\n",
       "      <td>0</td>\n",
       "      <td>0</td>\n",
       "      <td>...</td>\n",
       "      <td>0</td>\n",
       "      <td>0</td>\n",
       "      <td>0</td>\n",
       "      <td>0</td>\n",
       "      <td>0</td>\n",
       "      <td>0</td>\n",
       "      <td>0</td>\n",
       "      <td>0</td>\n",
       "      <td>0</td>\n",
       "      <td>0</td>\n",
       "    </tr>\n",
       "  </tbody>\n",
       "</table>\n",
       "<p>4 rows × 46 columns</p>\n",
       "</div>"
      ],
      "text/plain": [
       "     Age  Education_Level  Years_of_Experience  Salary  Female  Male  \\\n",
       "371   43                1                   19  170000       0     1   \n",
       "372   29                0                    2   40000       1     0   \n",
       "373   34                0                    7   90000       0     1   \n",
       "374   44                2                   15  150000       1     0   \n",
       "\n",
       "     Director of Marketing  Director of Operations  Junior Accountant  \\\n",
       "371                      0                       1                  0   \n",
       "372                      0                       0                  0   \n",
       "373                      0                       0                  0   \n",
       "374                      0                       0                  0   \n",
       "\n",
       "     Junior Business Analyst  ...  Senior Operations Coordinator  \\\n",
       "371                        0  ...                              0   \n",
       "372                        0  ...                              0   \n",
       "373                        0  ...                              1   \n",
       "374                        0  ...                              0   \n",
       "\n",
       "     Senior Operations Manager  Senior Product Designer  \\\n",
       "371                          0                        0   \n",
       "372                          0                        0   \n",
       "373                          0                        0   \n",
       "374                          0                        0   \n",
       "\n",
       "     Senior Product Manager  Senior Project Coordinator  \\\n",
       "371                       0                           0   \n",
       "372                       0                           0   \n",
       "373                       0                           0   \n",
       "374                       0                           0   \n",
       "\n",
       "     Senior Project Manager  Senior Scientist  Senior Software Developer  \\\n",
       "371                       0                 0                          0   \n",
       "372                       0                 0                          0   \n",
       "373                       0                 0                          0   \n",
       "374                       0                 0                          0   \n",
       "\n",
       "     Senior Software Engineer  Senior UX Designer  \n",
       "371                         0                   0  \n",
       "372                         0                   0  \n",
       "373                         0                   0  \n",
       "374                         0                   0  \n",
       "\n",
       "[4 rows x 46 columns]"
      ]
     },
     "execution_count": 42,
     "metadata": {},
     "output_type": "execute_result"
    }
   ],
   "source": [
    "df6.tail(4)"
   ]
  },
  {
   "cell_type": "code",
   "execution_count": 43,
   "id": "41a3f3f8-5ee9-4f54-ac98-b8914951947f",
   "metadata": {},
   "outputs": [
    {
     "name": "stdout",
     "output_type": "stream",
     "text": [
      "95121$\n"
     ]
    },
    {
     "name": "stderr",
     "output_type": "stream",
     "text": [
      "C:\\Users\\NIKHIL VERMA\\AppData\\Local\\Programs\\Python\\Python312\\Lib\\site-packages\\sklearn\\utils\\validation.py:2739: UserWarning: X does not have valid feature names, but LinearRegression was fitted with feature names\n",
      "  warnings.warn(\n"
     ]
    }
   ],
   "source": [
    "print(f\"{predict_salary('Male', 'Senior Operations Coordinator',34,0,7)}$\")"
   ]
  },
  {
   "cell_type": "code",
   "execution_count": 44,
   "id": "0faa394c-94f7-461c-b1a5-c588baa25c04",
   "metadata": {},
   "outputs": [
    {
     "name": "stdout",
     "output_type": "stream",
     "text": [
      "152098$\n"
     ]
    },
    {
     "name": "stderr",
     "output_type": "stream",
     "text": [
      "C:\\Users\\NIKHIL VERMA\\AppData\\Local\\Programs\\Python\\Python312\\Lib\\site-packages\\sklearn\\utils\\validation.py:2739: UserWarning: X does not have valid feature names, but LinearRegression was fitted with feature names\n",
      "  warnings.warn(\n"
     ]
    }
   ],
   "source": [
    "print(f\"{predict_salary('Male', 'Director of Operations',43,1,19)}$\")"
   ]
  }
 ],
 "metadata": {
  "kernelspec": {
   "display_name": "Python 3 (ipykernel)",
   "language": "python",
   "name": "python3"
  },
  "language_info": {
   "codemirror_mode": {
    "name": "ipython",
    "version": 3
   },
   "file_extension": ".py",
   "mimetype": "text/x-python",
   "name": "python",
   "nbconvert_exporter": "python",
   "pygments_lexer": "ipython3",
   "version": "3.12.4"
  }
 },
 "nbformat": 4,
 "nbformat_minor": 5
}
