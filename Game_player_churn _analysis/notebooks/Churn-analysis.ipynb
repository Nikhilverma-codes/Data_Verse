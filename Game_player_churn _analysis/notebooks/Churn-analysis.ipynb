{
 "cells": [
  {
   "cell_type": "markdown",
   "id": "1bb2b1e8-1239-42b5-8aba-8032dc542100",
   "metadata": {
    "jp-MarkdownHeadingCollapsed": true
   },
   "source": [
    "## Loading data & Libraries"
   ]
  },
  {
   "cell_type": "code",
   "execution_count": 1,
   "id": "f3b1dd9e-8045-42de-ada1-eedb3caf259f",
   "metadata": {},
   "outputs": [],
   "source": [
    "import pandas as pd\n",
    "import numpy as np "
   ]
  },
  {
   "cell_type": "code",
   "execution_count": 2,
   "id": "8fec4ad6-6a3b-474a-a9aa-17107869aeea",
   "metadata": {},
   "outputs": [],
   "source": [
    "df = pd.read_csv(\"../data/churn.csv\")"
   ]
  },
  {
   "cell_type": "code",
   "execution_count": 3,
   "id": "245f40c3-6df0-4172-a5a0-63a29165507d",
   "metadata": {},
   "outputs": [
    {
     "data": {
      "text/plain": [
       "(37354, 11)"
      ]
     },
     "execution_count": 3,
     "metadata": {},
     "output_type": "execute_result"
    }
   ],
   "source": [
    "df.shape"
   ]
  },
  {
   "cell_type": "code",
   "execution_count": 4,
   "id": "4586b98c-d47a-4350-b305-79255b300434",
   "metadata": {},
   "outputs": [
    {
     "data": {
      "text/html": [
       "<div>\n",
       "<style scoped>\n",
       "    .dataframe tbody tr th:only-of-type {\n",
       "        vertical-align: middle;\n",
       "    }\n",
       "\n",
       "    .dataframe tbody tr th {\n",
       "        vertical-align: top;\n",
       "    }\n",
       "\n",
       "    .dataframe thead th {\n",
       "        text-align: right;\n",
       "    }\n",
       "</style>\n",
       "<table border=\"1\" class=\"dataframe\">\n",
       "  <thead>\n",
       "    <tr style=\"text-align: right;\">\n",
       "      <th></th>\n",
       "      <th>Unnamed: 0</th>\n",
       "      <th>char_id</th>\n",
       "      <th>guild</th>\n",
       "      <th>total_timestamps</th>\n",
       "      <th>unique_days</th>\n",
       "      <th>max_level</th>\n",
       "      <th>min_month</th>\n",
       "      <th>max_month</th>\n",
       "      <th>Average_Hour</th>\n",
       "      <th>Average_Playing_density</th>\n",
       "      <th>Playing_after_6_months</th>\n",
       "    </tr>\n",
       "  </thead>\n",
       "  <tbody>\n",
       "    <tr>\n",
       "      <th>11971</th>\n",
       "      <td>11971</td>\n",
       "      <td>64671</td>\n",
       "      <td>1</td>\n",
       "      <td>292</td>\n",
       "      <td>14</td>\n",
       "      <td>41</td>\n",
       "      <td>1</td>\n",
       "      <td>6</td>\n",
       "      <td>3.476190</td>\n",
       "      <td>0.076503</td>\n",
       "      <td>1</td>\n",
       "    </tr>\n",
       "    <tr>\n",
       "      <th>11993</th>\n",
       "      <td>11993</td>\n",
       "      <td>64724</td>\n",
       "      <td>0</td>\n",
       "      <td>1</td>\n",
       "      <td>1</td>\n",
       "      <td>14</td>\n",
       "      <td>1</td>\n",
       "      <td>1</td>\n",
       "      <td>0.166667</td>\n",
       "      <td>0.032787</td>\n",
       "      <td>0</td>\n",
       "    </tr>\n",
       "    <tr>\n",
       "      <th>13290</th>\n",
       "      <td>13290</td>\n",
       "      <td>66488</td>\n",
       "      <td>0</td>\n",
       "      <td>1</td>\n",
       "      <td>1</td>\n",
       "      <td>7</td>\n",
       "      <td>1</td>\n",
       "      <td>1</td>\n",
       "      <td>0.166667</td>\n",
       "      <td>0.032787</td>\n",
       "      <td>0</td>\n",
       "    </tr>\n",
       "    <tr>\n",
       "      <th>31265</th>\n",
       "      <td>31265</td>\n",
       "      <td>84474</td>\n",
       "      <td>0</td>\n",
       "      <td>69</td>\n",
       "      <td>4</td>\n",
       "      <td>15</td>\n",
       "      <td>10</td>\n",
       "      <td>10</td>\n",
       "      <td>2.875000</td>\n",
       "      <td>0.131148</td>\n",
       "      <td>0</td>\n",
       "    </tr>\n",
       "    <tr>\n",
       "      <th>14045</th>\n",
       "      <td>14045</td>\n",
       "      <td>67243</td>\n",
       "      <td>0</td>\n",
       "      <td>54</td>\n",
       "      <td>7</td>\n",
       "      <td>10</td>\n",
       "      <td>1</td>\n",
       "      <td>3</td>\n",
       "      <td>1.285714</td>\n",
       "      <td>0.076503</td>\n",
       "      <td>0</td>\n",
       "    </tr>\n",
       "  </tbody>\n",
       "</table>\n",
       "</div>"
      ],
      "text/plain": [
       "       Unnamed: 0  char_id  guild  total_timestamps  unique_days  max_level  \\\n",
       "11971       11971    64671      1               292           14         41   \n",
       "11993       11993    64724      0                 1            1         14   \n",
       "13290       13290    66488      0                 1            1          7   \n",
       "31265       31265    84474      0                69            4         15   \n",
       "14045       14045    67243      0                54            7         10   \n",
       "\n",
       "       min_month  max_month  Average_Hour  Average_Playing_density  \\\n",
       "11971          1          6      3.476190                 0.076503   \n",
       "11993          1          1      0.166667                 0.032787   \n",
       "13290          1          1      0.166667                 0.032787   \n",
       "31265         10         10      2.875000                 0.131148   \n",
       "14045          1          3      1.285714                 0.076503   \n",
       "\n",
       "       Playing_after_6_months  \n",
       "11971                       1  \n",
       "11993                       0  \n",
       "13290                       0  \n",
       "31265                       0  \n",
       "14045                       0  "
      ]
     },
     "execution_count": 4,
     "metadata": {},
     "output_type": "execute_result"
    }
   ],
   "source": [
    "df.sample(5)"
   ]
  },
  {
   "cell_type": "markdown",
   "id": "54a2d6fa-d9da-453d-82df-c70c2cc96fca",
   "metadata": {
    "jp-MarkdownHeadingCollapsed": true
   },
   "source": [
    "## Data cleaning & Exploratory data analysis (EDA)"
   ]
  },
  {
   "cell_type": "code",
   "execution_count": 5,
   "id": "b35405fc-32b7-4323-b6c7-1afc6c168033",
   "metadata": {},
   "outputs": [
    {
     "name": "stdout",
     "output_type": "stream",
     "text": [
      "<class 'pandas.core.frame.DataFrame'>\n",
      "RangeIndex: 37354 entries, 0 to 37353\n",
      "Data columns (total 11 columns):\n",
      " #   Column                   Non-Null Count  Dtype  \n",
      "---  ------                   --------------  -----  \n",
      " 0   Unnamed: 0               37354 non-null  int64  \n",
      " 1   char_id                  37354 non-null  int64  \n",
      " 2   guild                    37354 non-null  int64  \n",
      " 3   total_timestamps         37354 non-null  int64  \n",
      " 4   unique_days              37354 non-null  int64  \n",
      " 5   max_level                37354 non-null  int64  \n",
      " 6   min_month                37354 non-null  int64  \n",
      " 7   max_month                37354 non-null  int64  \n",
      " 8   Average_Hour             37354 non-null  float64\n",
      " 9   Average_Playing_density  37354 non-null  float64\n",
      " 10  Playing_after_6_months   37354 non-null  int64  \n",
      "dtypes: float64(2), int64(9)\n",
      "memory usage: 3.1 MB\n"
     ]
    }
   ],
   "source": [
    "df.info()"
   ]
  },
  {
   "cell_type": "code",
   "execution_count": 6,
   "id": "e692e375-a29e-4627-89cb-2c48d9cb5684",
   "metadata": {},
   "outputs": [
    {
     "data": {
      "text/html": [
       "<div>\n",
       "<style scoped>\n",
       "    .dataframe tbody tr th:only-of-type {\n",
       "        vertical-align: middle;\n",
       "    }\n",
       "\n",
       "    .dataframe tbody tr th {\n",
       "        vertical-align: top;\n",
       "    }\n",
       "\n",
       "    .dataframe thead th {\n",
       "        text-align: right;\n",
       "    }\n",
       "</style>\n",
       "<table border=\"1\" class=\"dataframe\">\n",
       "  <thead>\n",
       "    <tr style=\"text-align: right;\">\n",
       "      <th></th>\n",
       "      <th>Unnamed: 0</th>\n",
       "      <th>char_id</th>\n",
       "      <th>guild</th>\n",
       "      <th>total_timestamps</th>\n",
       "      <th>unique_days</th>\n",
       "      <th>max_level</th>\n",
       "      <th>min_month</th>\n",
       "      <th>max_month</th>\n",
       "      <th>Average_Hour</th>\n",
       "      <th>Average_Playing_density</th>\n",
       "      <th>Playing_after_6_months</th>\n",
       "    </tr>\n",
       "  </thead>\n",
       "  <tbody>\n",
       "    <tr>\n",
       "      <th>count</th>\n",
       "      <td>37354.000000</td>\n",
       "      <td>37354.000000</td>\n",
       "      <td>37354.000000</td>\n",
       "      <td>37354.000000</td>\n",
       "      <td>37354.000000</td>\n",
       "      <td>37354.000000</td>\n",
       "      <td>37354.000000</td>\n",
       "      <td>37354.000000</td>\n",
       "      <td>37354.000000</td>\n",
       "      <td>37354.000000</td>\n",
       "      <td>37354.000000</td>\n",
       "    </tr>\n",
       "    <tr>\n",
       "      <th>mean</th>\n",
       "      <td>18676.500000</td>\n",
       "      <td>63453.951946</td>\n",
       "      <td>0.323125</td>\n",
       "      <td>289.841356</td>\n",
       "      <td>18.510655</td>\n",
       "      <td>20.474353</td>\n",
       "      <td>6.077288</td>\n",
       "      <td>8.355303</td>\n",
       "      <td>1.063722</td>\n",
       "      <td>0.110244</td>\n",
       "      <td>0.219655</td>\n",
       "    </tr>\n",
       "    <tr>\n",
       "      <th>std</th>\n",
       "      <td>10783.315314</td>\n",
       "      <td>24402.571830</td>\n",
       "      <td>0.467676</td>\n",
       "      <td>957.006915</td>\n",
       "      <td>44.083495</td>\n",
       "      <td>26.133273</td>\n",
       "      <td>4.029626</td>\n",
       "      <td>3.525334</td>\n",
       "      <td>1.341382</td>\n",
       "      <td>0.153310</td>\n",
       "      <td>0.414019</td>\n",
       "    </tr>\n",
       "    <tr>\n",
       "      <th>min</th>\n",
       "      <td>0.000000</td>\n",
       "      <td>2.000000</td>\n",
       "      <td>0.000000</td>\n",
       "      <td>1.000000</td>\n",
       "      <td>1.000000</td>\n",
       "      <td>1.000000</td>\n",
       "      <td>1.000000</td>\n",
       "      <td>1.000000</td>\n",
       "      <td>0.166667</td>\n",
       "      <td>0.005464</td>\n",
       "      <td>0.000000</td>\n",
       "    </tr>\n",
       "    <tr>\n",
       "      <th>25%</th>\n",
       "      <td>9338.250000</td>\n",
       "      <td>52801.250000</td>\n",
       "      <td>0.000000</td>\n",
       "      <td>2.000000</td>\n",
       "      <td>1.000000</td>\n",
       "      <td>1.000000</td>\n",
       "      <td>2.000000</td>\n",
       "      <td>6.000000</td>\n",
       "      <td>0.166667</td>\n",
       "      <td>0.032787</td>\n",
       "      <td>0.000000</td>\n",
       "    </tr>\n",
       "    <tr>\n",
       "      <th>50%</th>\n",
       "      <td>18676.500000</td>\n",
       "      <td>71877.500000</td>\n",
       "      <td>0.000000</td>\n",
       "      <td>6.000000</td>\n",
       "      <td>2.000000</td>\n",
       "      <td>6.000000</td>\n",
       "      <td>6.000000</td>\n",
       "      <td>10.000000</td>\n",
       "      <td>0.500000</td>\n",
       "      <td>0.032787</td>\n",
       "      <td>0.000000</td>\n",
       "    </tr>\n",
       "    <tr>\n",
       "      <th>75%</th>\n",
       "      <td>28014.750000</td>\n",
       "      <td>81223.750000</td>\n",
       "      <td>1.000000</td>\n",
       "      <td>59.000000</td>\n",
       "      <td>10.000000</td>\n",
       "      <td>32.000000</td>\n",
       "      <td>10.000000</td>\n",
       "      <td>11.000000</td>\n",
       "      <td>1.416667</td>\n",
       "      <td>0.098361</td>\n",
       "      <td>0.000000</td>\n",
       "    </tr>\n",
       "    <tr>\n",
       "      <th>max</th>\n",
       "      <td>37353.000000</td>\n",
       "      <td>90580.000000</td>\n",
       "      <td>1.000000</td>\n",
       "      <td>42801.000000</td>\n",
       "      <td>352.000000</td>\n",
       "      <td>80.000000</td>\n",
       "      <td>12.000000</td>\n",
       "      <td>12.000000</td>\n",
       "      <td>20.265625</td>\n",
       "      <td>0.983607</td>\n",
       "      <td>1.000000</td>\n",
       "    </tr>\n",
       "  </tbody>\n",
       "</table>\n",
       "</div>"
      ],
      "text/plain": [
       "         Unnamed: 0       char_id         guild  total_timestamps  \\\n",
       "count  37354.000000  37354.000000  37354.000000      37354.000000   \n",
       "mean   18676.500000  63453.951946      0.323125        289.841356   \n",
       "std    10783.315314  24402.571830      0.467676        957.006915   \n",
       "min        0.000000      2.000000      0.000000          1.000000   \n",
       "25%     9338.250000  52801.250000      0.000000          2.000000   \n",
       "50%    18676.500000  71877.500000      0.000000          6.000000   \n",
       "75%    28014.750000  81223.750000      1.000000         59.000000   \n",
       "max    37353.000000  90580.000000      1.000000      42801.000000   \n",
       "\n",
       "        unique_days     max_level     min_month     max_month  Average_Hour  \\\n",
       "count  37354.000000  37354.000000  37354.000000  37354.000000  37354.000000   \n",
       "mean      18.510655     20.474353      6.077288      8.355303      1.063722   \n",
       "std       44.083495     26.133273      4.029626      3.525334      1.341382   \n",
       "min        1.000000      1.000000      1.000000      1.000000      0.166667   \n",
       "25%        1.000000      1.000000      2.000000      6.000000      0.166667   \n",
       "50%        2.000000      6.000000      6.000000     10.000000      0.500000   \n",
       "75%       10.000000     32.000000     10.000000     11.000000      1.416667   \n",
       "max      352.000000     80.000000     12.000000     12.000000     20.265625   \n",
       "\n",
       "       Average_Playing_density  Playing_after_6_months  \n",
       "count             37354.000000            37354.000000  \n",
       "mean                  0.110244                0.219655  \n",
       "std                   0.153310                0.414019  \n",
       "min                   0.005464                0.000000  \n",
       "25%                   0.032787                0.000000  \n",
       "50%                   0.032787                0.000000  \n",
       "75%                   0.098361                0.000000  \n",
       "max                   0.983607                1.000000  "
      ]
     },
     "execution_count": 6,
     "metadata": {},
     "output_type": "execute_result"
    }
   ],
   "source": [
    "df.describe()"
   ]
  },
  {
   "cell_type": "code",
   "execution_count": 7,
   "id": "2edd6869-ccd5-46e7-a324-448175eb89fb",
   "metadata": {},
   "outputs": [
    {
     "data": {
      "text/plain": [
       "Unnamed: 0                 0\n",
       "char_id                    0\n",
       "guild                      0\n",
       "total_timestamps           0\n",
       "unique_days                0\n",
       "max_level                  0\n",
       "min_month                  0\n",
       "max_month                  0\n",
       "Average_Hour               0\n",
       "Average_Playing_density    0\n",
       "Playing_after_6_months     0\n",
       "dtype: int64"
      ]
     },
     "execution_count": 7,
     "metadata": {},
     "output_type": "execute_result"
    }
   ],
   "source": [
    "df.isnull().sum()"
   ]
  },
  {
   "cell_type": "markdown",
   "id": "9d434dc7-34d7-466e-9e1f-774ed3287c56",
   "metadata": {},
   "source": [
    "## Data Preprocessing"
   ]
  },
  {
   "cell_type": "code",
   "execution_count": 8,
   "id": "d3885545-9f12-45bc-8b0e-9e5a8e128ace",
   "metadata": {},
   "outputs": [],
   "source": [
    "df1 = df.drop(['Unnamed: 0', 'char_id', 'min_month'], axis = 'columns')"
   ]
  },
  {
   "cell_type": "code",
   "execution_count": 9,
   "id": "cad9e5e7-a924-4b32-a6ef-3901e068106c",
   "metadata": {},
   "outputs": [
    {
     "data": {
      "text/plain": [
       "['guild',\n",
       " 'total_timestamps',\n",
       " 'unique_days',\n",
       " 'max_level',\n",
       " 'max_month',\n",
       " 'Average_Hour',\n",
       " 'Average_Playing_density',\n",
       " 'Playing_after_6_months']"
      ]
     },
     "execution_count": 9,
     "metadata": {},
     "output_type": "execute_result"
    }
   ],
   "source": [
    "df1.columns.tolist()"
   ]
  },
  {
   "cell_type": "code",
   "execution_count": 10,
   "id": "aa608b50-ca23-4a14-8353-1549f7e82726",
   "metadata": {},
   "outputs": [],
   "source": [
    "X = df1.drop('Playing_after_6_months', axis=1)\n",
    "y = df1['Playing_after_6_months']"
   ]
  },
  {
   "cell_type": "code",
   "execution_count": 11,
   "id": "e5801b5e-9856-4ed8-bbdd-05e43f2209f5",
   "metadata": {},
   "outputs": [
    {
     "name": "stdout",
     "output_type": "stream",
     "text": [
      "<class 'pandas.core.series.Series'>\n",
      "RangeIndex: 37354 entries, 0 to 37353\n",
      "Series name: Playing_after_6_months\n",
      "Non-Null Count  Dtype\n",
      "--------------  -----\n",
      "37354 non-null  int64\n",
      "dtypes: int64(1)\n",
      "memory usage: 292.0 KB\n"
     ]
    }
   ],
   "source": [
    "y.info()"
   ]
  },
  {
   "cell_type": "code",
   "execution_count": 12,
   "id": "478f8ecb-3dd4-48d3-baf9-68fec80236ff",
   "metadata": {},
   "outputs": [
    {
     "name": "stdout",
     "output_type": "stream",
     "text": [
      "<class 'pandas.core.frame.DataFrame'>\n",
      "RangeIndex: 37354 entries, 0 to 37353\n",
      "Data columns (total 7 columns):\n",
      " #   Column                   Non-Null Count  Dtype  \n",
      "---  ------                   --------------  -----  \n",
      " 0   guild                    37354 non-null  int64  \n",
      " 1   total_timestamps         37354 non-null  int64  \n",
      " 2   unique_days              37354 non-null  int64  \n",
      " 3   max_level                37354 non-null  int64  \n",
      " 4   max_month                37354 non-null  int64  \n",
      " 5   Average_Hour             37354 non-null  float64\n",
      " 6   Average_Playing_density  37354 non-null  float64\n",
      "dtypes: float64(2), int64(5)\n",
      "memory usage: 2.0 MB\n"
     ]
    }
   ],
   "source": [
    "X.info()"
   ]
  },
  {
   "cell_type": "markdown",
   "id": "a2b2b725-fed3-4eb1-b15f-bc79a4ffa797",
   "metadata": {},
   "source": [
    "##### ***All columns are numeric, so standard scaling is a must for models like neural networks.***"
   ]
  },
  {
   "cell_type": "code",
   "execution_count": 13,
   "id": "6b57c5cd-130b-4c15-8938-67266cec6c8e",
   "metadata": {},
   "outputs": [],
   "source": [
    "from sklearn.preprocessing import StandardScaler\n",
    "scaler = StandardScaler()\n",
    "\n",
    "X_scaled = scaler.fit_transform(X)"
   ]
  },
  {
   "cell_type": "code",
   "execution_count": 14,
   "id": "414a5157-1b7d-49d6-b00d-2c41a558b122",
   "metadata": {},
   "outputs": [],
   "source": [
    "from sklearn.model_selection import train_test_split\n",
    "X_train, X_test, y_train, y_test = train_test_split(X_scaled, y, test_size = 0.2, random_state = 42)"
   ]
  },
  {
   "cell_type": "markdown",
   "id": "2473e524-bf94-4275-82df-5c1d73752a01",
   "metadata": {},
   "source": [
    "## Model Building"
   ]
  },
  {
   "cell_type": "markdown",
   "id": "5233c8e1-c06c-49dd-8eb0-01a3e2f40982",
   "metadata": {},
   "source": [
    "#### **Decision Tree Model**"
   ]
  },
  {
   "cell_type": "code",
   "execution_count": 15,
   "id": "51d16772-369d-44a9-81b8-09885a8ad265",
   "metadata": {},
   "outputs": [],
   "source": [
    "from sklearn.tree import DecisionTreeClassifier\n",
    "dt_model = DecisionTreeClassifier(random_state = 42)\n",
    "dt_model.fit(X_train, y_train)\n",
    "\n",
    "y_pred_dt = dt_model.predict(X_test)"
   ]
  },
  {
   "cell_type": "code",
   "execution_count": 16,
   "id": "2922b650-6207-4e3d-aa3b-928ee8f35f8c",
   "metadata": {},
   "outputs": [
    {
     "name": "stdout",
     "output_type": "stream",
     "text": [
      "\n",
      "Accuracy :\n",
      " 0.999063043769241\n",
      "\n",
      "Confusion Matrix :\n",
      " [[5832    5]\n",
      " [   2 1632]]\n",
      "\n",
      "Classification Report \n",
      ":               precision    recall  f1-score   support\n",
      "\n",
      "           0       1.00      1.00      1.00      5837\n",
      "           1       1.00      1.00      1.00      1634\n",
      "\n",
      "    accuracy                           1.00      7471\n",
      "   macro avg       1.00      1.00      1.00      7471\n",
      "weighted avg       1.00      1.00      1.00      7471\n",
      "\n"
     ]
    }
   ],
   "source": [
    "from sklearn.metrics import accuracy_score, confusion_matrix, classification_report\n",
    "\n",
    "print(\"\\nAccuracy :\\n\", accuracy_score(y_pred_dt, y_test))\n",
    "print(\"\\nConfusion Matrix :\\n\", confusion_matrix(y_pred_dt, y_test))\n",
    "print(\"\\nClassification Report \\n:\", classification_report(y_pred_dt, y_test))"
   ]
  },
  {
   "cell_type": "markdown",
   "id": "19d43c9a-2da9-499b-af14-2907f479df21",
   "metadata": {},
   "source": [
    "#### **XGBoost Model**"
   ]
  },
  {
   "cell_type": "code",
   "execution_count": 17,
   "id": "c6444eda-db66-4311-96d7-f1d5a473461a",
   "metadata": {},
   "outputs": [
    {
     "name": "stderr",
     "output_type": "stream",
     "text": [
      "E:\\verma\\envs\\churn-project\\lib\\site-packages\\xgboost\\training.py:183: UserWarning: [15:42:09] WARNING: C:\\actions-runner\\_work\\xgboost\\xgboost\\src\\learner.cc:738: \n",
      "Parameters: { \"use_label_encoder\" } are not used.\n",
      "\n",
      "  bst.update(dtrain, iteration=i, fobj=obj)\n"
     ]
    }
   ],
   "source": [
    "from xgboost import XGBClassifier\n",
    "\n",
    "xgb_model = XGBClassifier(use_label_encoder=False, eval_metric='logloss')\n",
    "\n",
    "xgb_model.fit(X_train, y_train)\n",
    "\n",
    "y_pred_xgb = xgb_model.predict(X_test)"
   ]
  },
  {
   "cell_type": "code",
   "execution_count": 18,
   "id": "1a39af01-8927-41b9-9763-6964a8877362",
   "metadata": {},
   "outputs": [
    {
     "name": "stdout",
     "output_type": "stream",
     "text": [
      "Accuracy : 1.0\n",
      "Confusion Matrix : [[5834    0]\n",
      " [   0 1637]]\n",
      "Classification Report :               precision    recall  f1-score   support\n",
      "\n",
      "           0       1.00      1.00      1.00      5834\n",
      "           1       1.00      1.00      1.00      1637\n",
      "\n",
      "    accuracy                           1.00      7471\n",
      "   macro avg       1.00      1.00      1.00      7471\n",
      "weighted avg       1.00      1.00      1.00      7471\n",
      "\n"
     ]
    }
   ],
   "source": [
    "print(\"Accuracy :\", accuracy_score(y_pred_xgb, y_test))\n",
    "print(\"Confusion Matrix :\", confusion_matrix(y_pred_xgb, y_test))\n",
    "print(\"Classification Report :\", classification_report(y_pred_xgb, y_test))"
   ]
  },
  {
   "cell_type": "code",
   "execution_count": 19,
   "id": "715d6de9-db12-4ede-8b1f-34cd4e6e6395",
   "metadata": {},
   "outputs": [
    {
     "name": "stdout",
     "output_type": "stream",
     "text": [
      "Playing_after_6_months\n",
      "0    29149\n",
      "1     8205\n",
      "Name: count, dtype: int64\n"
     ]
    },
    {
     "data": {
      "text/plain": [
       "<Axes: xlabel='Playing_after_6_months', ylabel='count'>"
      ]
     },
     "execution_count": 19,
     "metadata": {},
     "output_type": "execute_result"
    },
    {
     "data": {
      "image/png": "[encoded data removed]",
      "text/plain": [
       "<Figure size 640x480 with 1 Axes>"
      ]
     },
     "metadata": {},
     "output_type": "display_data"
    }
   ],
   "source": [
    "import seaborn as sns\n",
    "print(y.value_counts())\n",
    "sns.countplot(x=y)\n"
   ]
  },
  {
   "cell_type": "code",
   "execution_count": 21,
   "id": "2c1dc24e-e57c-4e56-bcfc-44cc0d2a345d",
   "metadata": {},
   "outputs": [
    {
     "name": "stdout",
     "output_type": "stream",
     "text": [
      "(array([0, 1]), array([5834, 1637]))\n"
     ]
    }
   ],
   "source": [
    "# For decision tree / XGBoost\n",
    "print(np.unique(y_pred_xgb, return_counts=True))"
   ]
  },
  {
   "cell_type": "code",
   "execution_count": null,
   "id": "3071eeda-8e9a-4d98-8f78-45b8a4db266f",
   "metadata": {},
   "outputs": [],
   "source": []
  },
  {
   "cell_type": "code",
   "execution_count": null,
   "id": "56fc02f0-b9be-4cf5-8ee9-90df2eb30027",
   "metadata": {},
   "outputs": [],
   "source": []
  },
  {
   "cell_type": "code",
   "execution_count": null,
   "id": "7458b9ae-dd97-45d9-9c2e-c28ccd5d9184",
   "metadata": {},
   "outputs": [],
   "source": []
  },
  {
   "cell_type": "code",
   "execution_count": null,
   "id": "65b2b8e5-9483-4565-87b2-69b30876cb6f",
   "metadata": {},
   "outputs": [],
   "source": []
  },
  {
   "cell_type": "code",
   "execution_count": null,
   "id": "9bb16374-9c17-49f3-9ced-565bae5613c5",
   "metadata": {},
   "outputs": [],
   "source": []
  },
  {
   "cell_type": "code",
   "execution_count": null,
   "id": "1b38e2b0-8952-485f-9eb8-851d337f2908",
   "metadata": {},
   "outputs": [],
   "source": []
  }
 ],
 "metadata": {
  "kernelspec": {
   "display_name": "Churn Project (pyTorch)",
   "language": "python",
   "name": "churn-project"
  },
  "language_info": {
   "codemirror_mode": {
    "name": "ipython",
    "version": 3
   },
   "file_extension": ".py",
   "mimetype": "text/x-python",
   "name": "python",
   "nbconvert_exporter": "python",
   "pygments_lexer": "ipython3",
   "version": "3.10.18"
  }
 },
 "nbformat": 4,
 "nbformat_minor": 5
}
